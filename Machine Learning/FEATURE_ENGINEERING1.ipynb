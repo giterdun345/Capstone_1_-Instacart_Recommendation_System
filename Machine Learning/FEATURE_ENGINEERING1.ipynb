{
 "cells": [
  {
   "cell_type": "code",
   "execution_count": null,
   "metadata": {},
   "outputs": [],
   "source": [
    "%run "
   ]
  },
  {
   "cell_type": "code",
   "execution_count": 2,
   "metadata": {},
   "outputs": [],
   "source": [
    "import pandas as pd\n",
    "import numpy as np\n",
    "import matplotlib.pyplot as plt\n",
    "import seaborn as sns; sns.set()\n",
    "import warnings\n",
    "import gc\n",
    "# enable garbage collector to aid in memory \n",
    "gc.enable()\n",
    "# eliminate future warnings\n",
    "warnings.filterwarnings('ignore')\n"
   ]
  },
  {
   "cell_type": "markdown",
   "metadata": {},
   "source": [
    "# Import Data"
   ]
  },
  {
   "cell_type": "code",
   "execution_count": 2,
   "metadata": {},
   "outputs": [],
   "source": [
    "aisles = pd.read_csv(\"aisles.csv\")\n",
    "department = pd.read_csv(\"departments.csv\")\n",
    "orders = pd.read_csv(\"orders.csv\")\n",
    "prior = pd.read_csv(\"order_products__prior.csv\")\n",
    "train = pd.read_csv(\"order_products__train.csv\")\n",
    "products = pd.read_csv(\"products.csv\")"
   ]
  },
  {
   "cell_type": "code",
   "execution_count": 3,
   "metadata": {},
   "outputs": [
    {
     "name": "stdout",
     "output_type": "stream",
     "text": [
      "<class 'pandas.core.frame.DataFrame'>\n",
      "Int64Index: 49688 entries, 0 to 49687\n",
      "Data columns (total 3 columns):\n",
      "product_id       49688 non-null int64\n",
      "aisle_id         49688 non-null int64\n",
      "department_id    49688 non-null int64\n",
      "dtypes: int64(3)\n",
      "memory usage: 1.5 MB\n"
     ]
    }
   ],
   "source": [
    "# stock data frame for product and user_product features used later\n",
    "stock = products.merge(department, on = 'department_id', how = 'left')\n",
    "stock = products.merge(aisles, on = 'aisle_id', how = 'left')\n",
    "stock.drop(['aisle', 'product_name'], axis = 1, inplace = True)\n",
    "stock.info()"
   ]
  },
  {
   "cell_type": "code",
   "execution_count": 4,
   "metadata": {},
   "outputs": [],
   "source": [
    "# prior_orders for user features, joins user_id and order_id \n",
    "prior_orders = prior.merge(orders, on = 'order_id', how = 'inner')"
   ]
  },
  {
   "cell_type": "code",
   "execution_count": 5,
   "metadata": {
    "scrolled": true
   },
   "outputs": [
    {
     "data": {
      "text/plain": [
       "40"
      ]
     },
     "execution_count": 5,
     "metadata": {},
     "output_type": "execute_result"
    }
   ],
   "source": [
    "del products, aisles, department\n",
    "gc.collect()"
   ]
  },
  {
   "cell_type": "code",
   "execution_count": 6,
   "metadata": {},
   "outputs": [],
   "source": [
    "def memory_cruncher(df):\n",
    "    \"\"\"Reduces memory usage of data frame by converting the columns in to smaller dtypes\"\"\"\n",
    "    for c in df.columns:\n",
    "        if df[c].dtype == 'float64':\n",
    "            df[c] = df[c].astype('float32')\n",
    "        elif df[c].dtype == 'int64':\n",
    "            df[c] = df[c].astype('int32')\n",
    "        elif c == 'reordered':\n",
    "            df[c] == df[c].astype('int8')\n",
    "        else:\n",
    "            pass\n",
    "    return df"
   ]
  },
  {
   "cell_type": "code",
   "execution_count": 7,
   "metadata": {
    "scrolled": true
   },
   "outputs": [],
   "source": [
    "memory_cruncher(prior_orders);\n",
    "memory_cruncher(stock);"
   ]
  },
  {
   "cell_type": "code",
   "execution_count": 8,
   "metadata": {},
   "outputs": [
    {
     "name": "stdout",
     "output_type": "stream",
     "text": [
      "<class 'pandas.core.frame.DataFrame'>\n",
      "Int64Index: 32434489 entries, 0 to 32434488\n",
      "Data columns (total 10 columns):\n",
      "order_id                  int32\n",
      "product_id                int32\n",
      "add_to_cart_order         int32\n",
      "reordered                 int32\n",
      "user_id                   int32\n",
      "eval_set                  object\n",
      "order_number              int32\n",
      "order_dow                 int32\n",
      "order_hour_of_day         int32\n",
      "days_since_prior_order    float32\n",
      "dtypes: float32(1), int32(8), object(1)\n",
      "memory usage: 1.6+ GB\n"
     ]
    }
   ],
   "source": [
    "prior_orders.info()"
   ]
  },
  {
   "cell_type": "code",
   "execution_count": 9,
   "metadata": {
    "scrolled": true
   },
   "outputs": [
    {
     "name": "stdout",
     "output_type": "stream",
     "text": [
      "<class 'pandas.core.frame.DataFrame'>\n",
      "Int64Index: 49688 entries, 0 to 49687\n",
      "Data columns (total 3 columns):\n",
      "product_id       49688 non-null int32\n",
      "aisle_id         49688 non-null int32\n",
      "department_id    49688 non-null int32\n",
      "dtypes: int32(3)\n",
      "memory usage: 970.5 KB\n"
     ]
    }
   ],
   "source": [
    "stock.info()"
   ]
  },
  {
   "cell_type": "markdown",
   "metadata": {},
   "source": [
    "# Predictor Variables of Market Basket Analysis\n",
    "<ol>\n",
    "  1. User prediction variables - behaviors of users <br>\n",
    "  2. Product prediction variables - info on products <br>\n",
    "  3. User/Product prediction variables - behavior towards a product\n",
    "</ol>"
   ]
  },
  {
   "cell_type": "markdown",
   "metadata": {},
   "source": [
    "# User Predictor Variables"
   ]
  },
  {
   "cell_type": "code",
   "execution_count": 10,
   "metadata": {},
   "outputs": [],
   "source": [
    "# total amount of orders by user \n",
    "user = prior_orders.groupby('user_id').order_number.max().to_frame('user_totals_u').reset_index()"
   ]
  },
  {
   "cell_type": "code",
   "execution_count": 11,
   "metadata": {},
   "outputs": [],
   "source": [
    "# average number of orders per user\n",
    "number_of_orders = prior_orders.groupby('user_id').order_number.mean().to_frame('number_of_orders_u').reset_index()"
   ]
  },
  {
   "cell_type": "code",
   "execution_count": 12,
   "metadata": {},
   "outputs": [],
   "source": [
    "#avg number of days between orders\n",
    "avg_days_between = prior_orders.groupby('user_id').days_since_prior_order.mean().to_frame('average_days_between_u').reset_index()"
   ]
  },
  {
   "cell_type": "code",
   "execution_count": 13,
   "metadata": {},
   "outputs": [],
   "source": [
    "# average number for reordered products by user\n",
    "reorder_ratio = prior_orders.groupby('user_id').reordered.mean().to_frame('reorder_ratio_u').reset_index()"
   ]
  },
  {
   "cell_type": "code",
   "execution_count": 14,
   "metadata": {},
   "outputs": [],
   "source": [
    "# order day of the week with the most items \n",
    "most_dow = prior_orders.groupby('user_id').order_dow.agg(lambda x:x.value_counts().index[0]).to_frame('most_dow_u').reset_index()"
   ]
  },
  {
   "cell_type": "code",
   "execution_count": 15,
   "metadata": {},
   "outputs": [],
   "source": [
    "# order hour of the day with the most items\n",
    "most_hour = prior_orders.groupby('user_id').order_hour_of_day.agg(lambda x:x.value_counts().index[0]).to_frame('most_hour_u').reset_index()"
   ]
  },
  {
   "cell_type": "code",
   "execution_count": 16,
   "metadata": {},
   "outputs": [],
   "source": [
    "# total amount of different items bought\n",
    "specific_items = prior_orders.groupby('user_id').size().to_frame('specific_items_p').reset_index()"
   ]
  },
  {
   "cell_type": "code",
   "execution_count": 17,
   "metadata": {},
   "outputs": [],
   "source": [
    "user = user.merge(number_of_orders, on = 'user_id', how = 'left')\n",
    "user = user.merge(avg_days_between, on = 'user_id', how = 'left')\n",
    "user = user.merge(most_dow, on = 'user_id', how = 'left')\n",
    "user = user.merge(most_hour, on = 'user_id', how = 'left')\n",
    "user = user.merge(reorder_ratio, on = 'user_id', how = 'left')\n",
    "user = user.merge(specific_items, on = 'user_id', how = 'left')"
   ]
  },
  {
   "cell_type": "code",
   "execution_count": 18,
   "metadata": {},
   "outputs": [
    {
     "name": "stdout",
     "output_type": "stream",
     "text": [
      "<class 'pandas.core.frame.DataFrame'>\n",
      "Int64Index: 206209 entries, 0 to 206208\n",
      "Data columns (total 8 columns):\n",
      "user_id                   206209 non-null int32\n",
      "user_totals_u             206209 non-null int32\n",
      "number_of_orders_u        206209 non-null float32\n",
      "average_days_between_u    206209 non-null float32\n",
      "most_dow_u                206209 non-null int32\n",
      "most_hour_u               206209 non-null int32\n",
      "reorder_ratio_u           206209 non-null float32\n",
      "specific_items_p          206209 non-null int32\n",
      "dtypes: float32(3), int32(5)\n",
      "memory usage: 7.9 MB\n"
     ]
    }
   ],
   "source": [
    "memory_cruncher(user)\n",
    "user.info()"
   ]
  },
  {
   "cell_type": "code",
   "execution_count": 19,
   "metadata": {
    "scrolled": true
   },
   "outputs": [
    {
     "data": {
      "text/plain": [
       "40"
      ]
     },
     "execution_count": 19,
     "metadata": {},
     "output_type": "execute_result"
    }
   ],
   "source": [
    "del number_of_orders, avg_days_between, most_dow, most_hour, reorder_ratio, specific_items\n",
    "gc.collect()"
   ]
  },
  {
   "cell_type": "markdown",
   "metadata": {},
   "source": [
    "# Product predictor variables "
   ]
  },
  {
   "cell_type": "code",
   "execution_count": 20,
   "metadata": {
    "scrolled": true
   },
   "outputs": [
    {
     "data": {
      "text/html": [
       "<div>\n",
       "<style scoped>\n",
       "    .dataframe tbody tr th:only-of-type {\n",
       "        vertical-align: middle;\n",
       "    }\n",
       "\n",
       "    .dataframe tbody tr th {\n",
       "        vertical-align: top;\n",
       "    }\n",
       "\n",
       "    .dataframe thead th {\n",
       "        text-align: right;\n",
       "    }\n",
       "</style>\n",
       "<table border=\"1\" class=\"dataframe\">\n",
       "  <thead>\n",
       "    <tr style=\"text-align: right;\">\n",
       "      <th></th>\n",
       "      <th>product_id</th>\n",
       "      <th>total_purchased_p</th>\n",
       "    </tr>\n",
       "  </thead>\n",
       "  <tbody>\n",
       "    <tr>\n",
       "      <td>0</td>\n",
       "      <td>1</td>\n",
       "      <td>1852</td>\n",
       "    </tr>\n",
       "    <tr>\n",
       "      <td>1</td>\n",
       "      <td>2</td>\n",
       "      <td>90</td>\n",
       "    </tr>\n",
       "    <tr>\n",
       "      <td>2</td>\n",
       "      <td>3</td>\n",
       "      <td>277</td>\n",
       "    </tr>\n",
       "    <tr>\n",
       "      <td>3</td>\n",
       "      <td>4</td>\n",
       "      <td>329</td>\n",
       "    </tr>\n",
       "    <tr>\n",
       "      <td>4</td>\n",
       "      <td>5</td>\n",
       "      <td>15</td>\n",
       "    </tr>\n",
       "  </tbody>\n",
       "</table>\n",
       "</div>"
      ],
      "text/plain": [
       "   product_id  total_purchased_p\n",
       "0           1               1852\n",
       "1           2                 90\n",
       "2           3                277\n",
       "3           4                329\n",
       "4           5                 15"
      ]
     },
     "execution_count": 20,
     "metadata": {},
     "output_type": "execute_result"
    }
   ],
   "source": [
    "# total amount of purchases per product\n",
    "product = prior_orders.groupby('product_id').order_id.count().to_frame('total_purchased_p').reset_index()\n",
    "product.head()"
   ]
  },
  {
   "cell_type": "code",
   "execution_count": 21,
   "metadata": {},
   "outputs": [
    {
     "data": {
      "text/html": [
       "<div>\n",
       "<style scoped>\n",
       "    .dataframe tbody tr th:only-of-type {\n",
       "        vertical-align: middle;\n",
       "    }\n",
       "\n",
       "    .dataframe tbody tr th {\n",
       "        vertical-align: top;\n",
       "    }\n",
       "\n",
       "    .dataframe thead th {\n",
       "        text-align: right;\n",
       "    }\n",
       "</style>\n",
       "<table border=\"1\" class=\"dataframe\">\n",
       "  <thead>\n",
       "    <tr style=\"text-align: right;\">\n",
       "      <th></th>\n",
       "      <th>product_id</th>\n",
       "      <th>reorder_ratio_p</th>\n",
       "    </tr>\n",
       "  </thead>\n",
       "  <tbody>\n",
       "    <tr>\n",
       "      <td>0</td>\n",
       "      <td>1</td>\n",
       "      <td>0.613391</td>\n",
       "    </tr>\n",
       "    <tr>\n",
       "      <td>1</td>\n",
       "      <td>2</td>\n",
       "      <td>0.133333</td>\n",
       "    </tr>\n",
       "    <tr>\n",
       "      <td>2</td>\n",
       "      <td>3</td>\n",
       "      <td>0.732852</td>\n",
       "    </tr>\n",
       "    <tr>\n",
       "      <td>3</td>\n",
       "      <td>4</td>\n",
       "      <td>0.446809</td>\n",
       "    </tr>\n",
       "    <tr>\n",
       "      <td>4</td>\n",
       "      <td>5</td>\n",
       "      <td>0.600000</td>\n",
       "    </tr>\n",
       "  </tbody>\n",
       "</table>\n",
       "</div>"
      ],
      "text/plain": [
       "   product_id  reorder_ratio_p\n",
       "0           1         0.613391\n",
       "1           2         0.133333\n",
       "2           3         0.732852\n",
       "3           4         0.446809\n",
       "4           5         0.600000"
      ]
     },
     "execution_count": 21,
     "metadata": {},
     "output_type": "execute_result"
    }
   ],
   "source": [
    "# calculate the ratio of repurchase for each product\n",
    "reorder_ratio = prior_orders.groupby('product_id').reordered.mean().to_frame('reorder_ratio_p').reset_index()\n",
    "reorder_ratio.head()\n"
   ]
  },
  {
   "cell_type": "code",
   "execution_count": 22,
   "metadata": {},
   "outputs": [
    {
     "data": {
      "text/html": [
       "<div>\n",
       "<style scoped>\n",
       "    .dataframe tbody tr th:only-of-type {\n",
       "        vertical-align: middle;\n",
       "    }\n",
       "\n",
       "    .dataframe tbody tr th {\n",
       "        vertical-align: top;\n",
       "    }\n",
       "\n",
       "    .dataframe thead th {\n",
       "        text-align: right;\n",
       "    }\n",
       "</style>\n",
       "<table border=\"1\" class=\"dataframe\">\n",
       "  <thead>\n",
       "    <tr style=\"text-align: right;\">\n",
       "      <th></th>\n",
       "      <th>product_id</th>\n",
       "      <th>cart_position_p</th>\n",
       "    </tr>\n",
       "  </thead>\n",
       "  <tbody>\n",
       "    <tr>\n",
       "      <td>0</td>\n",
       "      <td>1</td>\n",
       "      <td>5.801836</td>\n",
       "    </tr>\n",
       "    <tr>\n",
       "      <td>1</td>\n",
       "      <td>2</td>\n",
       "      <td>9.888889</td>\n",
       "    </tr>\n",
       "    <tr>\n",
       "      <td>2</td>\n",
       "      <td>3</td>\n",
       "      <td>6.415162</td>\n",
       "    </tr>\n",
       "    <tr>\n",
       "      <td>3</td>\n",
       "      <td>4</td>\n",
       "      <td>9.507599</td>\n",
       "    </tr>\n",
       "    <tr>\n",
       "      <td>4</td>\n",
       "      <td>5</td>\n",
       "      <td>6.466667</td>\n",
       "    </tr>\n",
       "  </tbody>\n",
       "</table>\n",
       "</div>"
      ],
      "text/plain": [
       "   product_id  cart_position_p\n",
       "0           1         5.801836\n",
       "1           2         9.888889\n",
       "2           3         6.415162\n",
       "3           4         9.507599\n",
       "4           5         6.466667"
      ]
     },
     "execution_count": 22,
     "metadata": {},
     "output_type": "execute_result"
    }
   ],
   "source": [
    "# calculate the mean for position that the product is added to the cart\n",
    "addtocart = prior_orders.groupby('product_id').add_to_cart_order.mean().to_frame('cart_position_p').reset_index()\n",
    "addtocart.head()\n"
   ]
  },
  {
   "cell_type": "code",
   "execution_count": 23,
   "metadata": {},
   "outputs": [
    {
     "data": {
      "text/html": [
       "<div>\n",
       "<style scoped>\n",
       "    .dataframe tbody tr th:only-of-type {\n",
       "        vertical-align: middle;\n",
       "    }\n",
       "\n",
       "    .dataframe tbody tr th {\n",
       "        vertical-align: top;\n",
       "    }\n",
       "\n",
       "    .dataframe thead th {\n",
       "        text-align: right;\n",
       "    }\n",
       "</style>\n",
       "<table border=\"1\" class=\"dataframe\">\n",
       "  <thead>\n",
       "    <tr style=\"text-align: right;\">\n",
       "      <th></th>\n",
       "      <th>product_id</th>\n",
       "      <th>total_purchased_p</th>\n",
       "      <th>reorder_ratio_p</th>\n",
       "      <th>cart_position_p</th>\n",
       "    </tr>\n",
       "  </thead>\n",
       "  <tbody>\n",
       "    <tr>\n",
       "      <td>0</td>\n",
       "      <td>1</td>\n",
       "      <td>1852</td>\n",
       "      <td>0.613391</td>\n",
       "      <td>5.801836</td>\n",
       "    </tr>\n",
       "    <tr>\n",
       "      <td>1</td>\n",
       "      <td>2</td>\n",
       "      <td>90</td>\n",
       "      <td>0.133333</td>\n",
       "      <td>9.888889</td>\n",
       "    </tr>\n",
       "    <tr>\n",
       "      <td>2</td>\n",
       "      <td>3</td>\n",
       "      <td>277</td>\n",
       "      <td>0.732852</td>\n",
       "      <td>6.415162</td>\n",
       "    </tr>\n",
       "    <tr>\n",
       "      <td>3</td>\n",
       "      <td>4</td>\n",
       "      <td>329</td>\n",
       "      <td>0.446809</td>\n",
       "      <td>9.507599</td>\n",
       "    </tr>\n",
       "    <tr>\n",
       "      <td>4</td>\n",
       "      <td>5</td>\n",
       "      <td>15</td>\n",
       "      <td>0.600000</td>\n",
       "      <td>6.466667</td>\n",
       "    </tr>\n",
       "  </tbody>\n",
       "</table>\n",
       "</div>"
      ],
      "text/plain": [
       "   product_id  total_purchased_p  reorder_ratio_p  cart_position_p\n",
       "0           1               1852         0.613391         5.801836\n",
       "1           2                 90         0.133333         9.888889\n",
       "2           3                277         0.732852         6.415162\n",
       "3           4                329         0.446809         9.507599\n",
       "4           5                 15         0.600000         6.466667"
      ]
     },
     "execution_count": 23,
     "metadata": {},
     "output_type": "execute_result"
    }
   ],
   "source": [
    "#Merge the product with reorder probability\n",
    "product = product.merge(reorder_ratio, on='product_id', how='left')\n",
    "# merge product with addtocart\n",
    "product = product.merge(addtocart, on = 'product_id', how = 'left')\n",
    "\n",
    "product.head()"
   ]
  },
  {
   "cell_type": "code",
   "execution_count": 24,
   "metadata": {},
   "outputs": [],
   "source": [
    "memory_cruncher(product);"
   ]
  },
  {
   "cell_type": "code",
   "execution_count": 25,
   "metadata": {},
   "outputs": [
    {
     "data": {
      "text/plain": [
       "40"
      ]
     },
     "execution_count": 25,
     "metadata": {},
     "output_type": "execute_result"
    }
   ],
   "source": [
    "del reorder_ratio, addtocart\n",
    "gc.collect()"
   ]
  },
  {
   "cell_type": "markdown",
   "metadata": {},
   "source": [
    "# User-Product predictor variables"
   ]
  },
  {
   "cell_type": "code",
   "execution_count": 26,
   "metadata": {},
   "outputs": [
    {
     "name": "stdout",
     "output_type": "stream",
     "text": [
      "<class 'pandas.core.frame.DataFrame'>\n",
      "RangeIndex: 13307953 entries, 0 to 13307952\n",
      "Data columns (total 3 columns):\n",
      "user_id            int64\n",
      "product_id         int64\n",
      "times_bought_up    uint16\n",
      "dtypes: int64(2), uint16(1)\n",
      "memory usage: 228.4 MB\n"
     ]
    }
   ],
   "source": [
    "# amount of times a user bought a specific product\n",
    "user_product = prior_orders.groupby(by=['user_id', 'product_id']).order_id.count().to_frame('times_bought_up').reset_index()\n",
    "# changing the dtype.\n",
    "user_product['times_bought_up'] = user_product['times_bought_up'].astype(np.uint16)\n",
    "user_product.info()"
   ]
  },
  {
   "cell_type": "code",
   "execution_count": 27,
   "metadata": {
    "scrolled": true
   },
   "outputs": [
    {
     "data": {
      "text/html": [
       "<div>\n",
       "<style scoped>\n",
       "    .dataframe tbody tr th:only-of-type {\n",
       "        vertical-align: middle;\n",
       "    }\n",
       "\n",
       "    .dataframe tbody tr th {\n",
       "        vertical-align: top;\n",
       "    }\n",
       "\n",
       "    .dataframe thead th {\n",
       "        text-align: right;\n",
       "    }\n",
       "</style>\n",
       "<table border=\"1\" class=\"dataframe\">\n",
       "  <thead>\n",
       "    <tr style=\"text-align: right;\">\n",
       "      <th></th>\n",
       "      <th>user_id</th>\n",
       "      <th>product_id</th>\n",
       "      <th>amt_bought</th>\n",
       "    </tr>\n",
       "  </thead>\n",
       "  <tbody>\n",
       "    <tr>\n",
       "      <td>0</td>\n",
       "      <td>1</td>\n",
       "      <td>196</td>\n",
       "      <td>10</td>\n",
       "    </tr>\n",
       "    <tr>\n",
       "      <td>1</td>\n",
       "      <td>1</td>\n",
       "      <td>10258</td>\n",
       "      <td>9</td>\n",
       "    </tr>\n",
       "    <tr>\n",
       "      <td>2</td>\n",
       "      <td>1</td>\n",
       "      <td>10326</td>\n",
       "      <td>1</td>\n",
       "    </tr>\n",
       "    <tr>\n",
       "      <td>3</td>\n",
       "      <td>1</td>\n",
       "      <td>12427</td>\n",
       "      <td>10</td>\n",
       "    </tr>\n",
       "    <tr>\n",
       "      <td>4</td>\n",
       "      <td>1</td>\n",
       "      <td>13032</td>\n",
       "      <td>3</td>\n",
       "    </tr>\n",
       "  </tbody>\n",
       "</table>\n",
       "</div>"
      ],
      "text/plain": [
       "   user_id  product_id  amt_bought\n",
       "0        1         196          10\n",
       "1        1       10258           9\n",
       "2        1       10326           1\n",
       "3        1       12427          10\n",
       "4        1       13032           3"
      ]
     },
     "execution_count": 27,
     "metadata": {},
     "output_type": "execute_result"
    }
   ],
   "source": [
    "# how many times a user purchased the product after purchasing it once, same as above used to calculate ratio, support\n",
    "times = prior_orders.groupby(['user_id','product_id']).order_id.count().to_frame('amt_bought').reset_index()\n",
    "times.head()"
   ]
  },
  {
   "cell_type": "code",
   "execution_count": 28,
   "metadata": {},
   "outputs": [
    {
     "data": {
      "text/html": [
       "<div>\n",
       "<style scoped>\n",
       "    .dataframe tbody tr th:only-of-type {\n",
       "        vertical-align: middle;\n",
       "    }\n",
       "\n",
       "    .dataframe tbody tr th {\n",
       "        vertical-align: top;\n",
       "    }\n",
       "\n",
       "    .dataframe thead th {\n",
       "        text-align: right;\n",
       "    }\n",
       "</style>\n",
       "<table border=\"1\" class=\"dataframe\">\n",
       "  <thead>\n",
       "    <tr style=\"text-align: right;\">\n",
       "      <th></th>\n",
       "      <th>user_id</th>\n",
       "      <th>total_orders</th>\n",
       "    </tr>\n",
       "  </thead>\n",
       "  <tbody>\n",
       "    <tr>\n",
       "      <td>0</td>\n",
       "      <td>1</td>\n",
       "      <td>10</td>\n",
       "    </tr>\n",
       "    <tr>\n",
       "      <td>1</td>\n",
       "      <td>2</td>\n",
       "      <td>14</td>\n",
       "    </tr>\n",
       "    <tr>\n",
       "      <td>2</td>\n",
       "      <td>3</td>\n",
       "      <td>12</td>\n",
       "    </tr>\n",
       "    <tr>\n",
       "      <td>3</td>\n",
       "      <td>4</td>\n",
       "      <td>5</td>\n",
       "    </tr>\n",
       "    <tr>\n",
       "      <td>4</td>\n",
       "      <td>5</td>\n",
       "      <td>4</td>\n",
       "    </tr>\n",
       "  </tbody>\n",
       "</table>\n",
       "</div>"
      ],
      "text/plain": [
       "   user_id  total_orders\n",
       "0        1            10\n",
       "1        2            14\n",
       "2        3            12\n",
       "3        4             5\n",
       "4        5             4"
      ]
     },
     "execution_count": 28,
     "metadata": {},
     "output_type": "execute_result"
    }
   ],
   "source": [
    "# total orders used for calculating range, support\n",
    "total_orders = prior_orders.groupby('user_id')['order_number'].max().to_frame('total_orders').reset_index()\n",
    "total_orders.head()"
   ]
  },
  {
   "cell_type": "code",
   "execution_count": 29,
   "metadata": {},
   "outputs": [
    {
     "data": {
      "text/html": [
       "<div>\n",
       "<style scoped>\n",
       "    .dataframe tbody tr th:only-of-type {\n",
       "        vertical-align: middle;\n",
       "    }\n",
       "\n",
       "    .dataframe tbody tr th {\n",
       "        vertical-align: top;\n",
       "    }\n",
       "\n",
       "    .dataframe thead th {\n",
       "        text-align: right;\n",
       "    }\n",
       "</style>\n",
       "<table border=\"1\" class=\"dataframe\">\n",
       "  <thead>\n",
       "    <tr style=\"text-align: right;\">\n",
       "      <th></th>\n",
       "      <th>user_id</th>\n",
       "      <th>product_id</th>\n",
       "      <th>first_order_num</th>\n",
       "    </tr>\n",
       "  </thead>\n",
       "  <tbody>\n",
       "    <tr>\n",
       "      <td>0</td>\n",
       "      <td>1</td>\n",
       "      <td>196</td>\n",
       "      <td>1</td>\n",
       "    </tr>\n",
       "    <tr>\n",
       "      <td>1</td>\n",
       "      <td>1</td>\n",
       "      <td>10258</td>\n",
       "      <td>2</td>\n",
       "    </tr>\n",
       "    <tr>\n",
       "      <td>2</td>\n",
       "      <td>1</td>\n",
       "      <td>10326</td>\n",
       "      <td>5</td>\n",
       "    </tr>\n",
       "    <tr>\n",
       "      <td>3</td>\n",
       "      <td>1</td>\n",
       "      <td>12427</td>\n",
       "      <td>1</td>\n",
       "    </tr>\n",
       "    <tr>\n",
       "      <td>4</td>\n",
       "      <td>1</td>\n",
       "      <td>13032</td>\n",
       "      <td>2</td>\n",
       "    </tr>\n",
       "  </tbody>\n",
       "</table>\n",
       "</div>"
      ],
      "text/plain": [
       "   user_id  product_id  first_order_num\n",
       "0        1         196                1\n",
       "1        1       10258                2\n",
       "2        1       10326                5\n",
       "3        1       12427                1\n",
       "4        1       13032                2"
      ]
     },
     "execution_count": 29,
     "metadata": {},
     "output_type": "execute_result"
    }
   ],
   "source": [
    "# finding when the user has bought a product the first time.\n",
    "first_order_num = prior_orders.groupby(by=['user_id', 'product_id'])['order_number'].min().to_frame('first_order_num').reset_index()\n",
    "first_order_num.head()"
   ]
  },
  {
   "cell_type": "code",
   "execution_count": 30,
   "metadata": {},
   "outputs": [
    {
     "data": {
      "text/html": [
       "<div>\n",
       "<style scoped>\n",
       "    .dataframe tbody tr th:only-of-type {\n",
       "        vertical-align: middle;\n",
       "    }\n",
       "\n",
       "    .dataframe tbody tr th {\n",
       "        vertical-align: top;\n",
       "    }\n",
       "\n",
       "    .dataframe thead th {\n",
       "        text-align: right;\n",
       "    }\n",
       "</style>\n",
       "<table border=\"1\" class=\"dataframe\">\n",
       "  <thead>\n",
       "    <tr style=\"text-align: right;\">\n",
       "      <th></th>\n",
       "      <th>user_id</th>\n",
       "      <th>total_orders</th>\n",
       "      <th>product_id</th>\n",
       "      <th>first_order_num</th>\n",
       "    </tr>\n",
       "  </thead>\n",
       "  <tbody>\n",
       "    <tr>\n",
       "      <td>0</td>\n",
       "      <td>1</td>\n",
       "      <td>10</td>\n",
       "      <td>196</td>\n",
       "      <td>1</td>\n",
       "    </tr>\n",
       "    <tr>\n",
       "      <td>1</td>\n",
       "      <td>1</td>\n",
       "      <td>10</td>\n",
       "      <td>10258</td>\n",
       "      <td>2</td>\n",
       "    </tr>\n",
       "    <tr>\n",
       "      <td>2</td>\n",
       "      <td>1</td>\n",
       "      <td>10</td>\n",
       "      <td>10326</td>\n",
       "      <td>5</td>\n",
       "    </tr>\n",
       "    <tr>\n",
       "      <td>3</td>\n",
       "      <td>1</td>\n",
       "      <td>10</td>\n",
       "      <td>12427</td>\n",
       "      <td>1</td>\n",
       "    </tr>\n",
       "    <tr>\n",
       "      <td>4</td>\n",
       "      <td>1</td>\n",
       "      <td>10</td>\n",
       "      <td>13032</td>\n",
       "      <td>2</td>\n",
       "    </tr>\n",
       "  </tbody>\n",
       "</table>\n",
       "</div>"
      ],
      "text/plain": [
       "   user_id  total_orders  product_id  first_order_num\n",
       "0        1            10         196                1\n",
       "1        1            10       10258                2\n",
       "2        1            10       10326                5\n",
       "3        1            10       12427                1\n",
       "4        1            10       13032                2"
      ]
     },
     "execution_count": 30,
     "metadata": {},
     "output_type": "execute_result"
    }
   ],
   "source": [
    "# merging to make calculations on \n",
    "span = pd.merge(total_orders, first_order_num, on='user_id', how='right')\n",
    "span.head()"
   ]
  },
  {
   "cell_type": "code",
   "execution_count": 31,
   "metadata": {},
   "outputs": [
    {
     "data": {
      "text/html": [
       "<div>\n",
       "<style scoped>\n",
       "    .dataframe tbody tr th:only-of-type {\n",
       "        vertical-align: middle;\n",
       "    }\n",
       "\n",
       "    .dataframe tbody tr th {\n",
       "        vertical-align: top;\n",
       "    }\n",
       "\n",
       "    .dataframe thead th {\n",
       "        text-align: right;\n",
       "    }\n",
       "</style>\n",
       "<table border=\"1\" class=\"dataframe\">\n",
       "  <thead>\n",
       "    <tr style=\"text-align: right;\">\n",
       "      <th></th>\n",
       "      <th>user_id</th>\n",
       "      <th>total_orders</th>\n",
       "      <th>product_id</th>\n",
       "      <th>first_order_num</th>\n",
       "      <th>range</th>\n",
       "    </tr>\n",
       "  </thead>\n",
       "  <tbody>\n",
       "    <tr>\n",
       "      <td>0</td>\n",
       "      <td>1</td>\n",
       "      <td>10</td>\n",
       "      <td>196</td>\n",
       "      <td>1</td>\n",
       "      <td>10</td>\n",
       "    </tr>\n",
       "    <tr>\n",
       "      <td>1</td>\n",
       "      <td>1</td>\n",
       "      <td>10</td>\n",
       "      <td>10258</td>\n",
       "      <td>2</td>\n",
       "      <td>9</td>\n",
       "    </tr>\n",
       "    <tr>\n",
       "      <td>2</td>\n",
       "      <td>1</td>\n",
       "      <td>10</td>\n",
       "      <td>10326</td>\n",
       "      <td>5</td>\n",
       "      <td>6</td>\n",
       "    </tr>\n",
       "    <tr>\n",
       "      <td>3</td>\n",
       "      <td>1</td>\n",
       "      <td>10</td>\n",
       "      <td>12427</td>\n",
       "      <td>1</td>\n",
       "      <td>10</td>\n",
       "    </tr>\n",
       "    <tr>\n",
       "      <td>4</td>\n",
       "      <td>1</td>\n",
       "      <td>10</td>\n",
       "      <td>13032</td>\n",
       "      <td>2</td>\n",
       "      <td>9</td>\n",
       "    </tr>\n",
       "  </tbody>\n",
       "</table>\n",
       "</div>"
      ],
      "text/plain": [
       "   user_id  total_orders  product_id  first_order_num  range\n",
       "0        1            10         196                1     10\n",
       "1        1            10       10258                2      9\n",
       "2        1            10       10326                5      6\n",
       "3        1            10       12427                1     10\n",
       "4        1            10       13032                2      9"
      ]
     },
     "execution_count": 31,
     "metadata": {},
     "output_type": "execute_result"
    }
   ],
   "source": [
    "# calculating range, plus one for offset\n",
    "span['range'] = span.total_orders - span.first_order_num + 1\n",
    "span.head()"
   ]
  },
  {
   "cell_type": "code",
   "execution_count": 32,
   "metadata": {},
   "outputs": [
    {
     "data": {
      "text/html": [
       "<div>\n",
       "<style scoped>\n",
       "    .dataframe tbody tr th:only-of-type {\n",
       "        vertical-align: middle;\n",
       "    }\n",
       "\n",
       "    .dataframe tbody tr th {\n",
       "        vertical-align: top;\n",
       "    }\n",
       "\n",
       "    .dataframe thead th {\n",
       "        text-align: right;\n",
       "    }\n",
       "</style>\n",
       "<table border=\"1\" class=\"dataframe\">\n",
       "  <thead>\n",
       "    <tr style=\"text-align: right;\">\n",
       "      <th></th>\n",
       "      <th>user_id</th>\n",
       "      <th>product_id</th>\n",
       "      <th>amt_bought</th>\n",
       "      <th>total_orders</th>\n",
       "      <th>first_order_num</th>\n",
       "      <th>range</th>\n",
       "    </tr>\n",
       "  </thead>\n",
       "  <tbody>\n",
       "    <tr>\n",
       "      <td>0</td>\n",
       "      <td>1</td>\n",
       "      <td>196</td>\n",
       "      <td>10</td>\n",
       "      <td>10</td>\n",
       "      <td>1</td>\n",
       "      <td>10</td>\n",
       "    </tr>\n",
       "    <tr>\n",
       "      <td>1</td>\n",
       "      <td>1</td>\n",
       "      <td>10258</td>\n",
       "      <td>9</td>\n",
       "      <td>10</td>\n",
       "      <td>2</td>\n",
       "      <td>9</td>\n",
       "    </tr>\n",
       "    <tr>\n",
       "      <td>2</td>\n",
       "      <td>1</td>\n",
       "      <td>10326</td>\n",
       "      <td>1</td>\n",
       "      <td>10</td>\n",
       "      <td>5</td>\n",
       "      <td>6</td>\n",
       "    </tr>\n",
       "    <tr>\n",
       "      <td>3</td>\n",
       "      <td>1</td>\n",
       "      <td>12427</td>\n",
       "      <td>10</td>\n",
       "      <td>10</td>\n",
       "      <td>1</td>\n",
       "      <td>10</td>\n",
       "    </tr>\n",
       "    <tr>\n",
       "      <td>4</td>\n",
       "      <td>1</td>\n",
       "      <td>13032</td>\n",
       "      <td>3</td>\n",
       "      <td>10</td>\n",
       "      <td>2</td>\n",
       "      <td>9</td>\n",
       "    </tr>\n",
       "  </tbody>\n",
       "</table>\n",
       "</div>"
      ],
      "text/plain": [
       "   user_id  product_id  amt_bought  total_orders  first_order_num  range\n",
       "0        1         196          10            10                1     10\n",
       "1        1       10258           9            10                2      9\n",
       "2        1       10326           1            10                5      6\n",
       "3        1       12427          10            10                1     10\n",
       "4        1       13032           3            10                2      9"
      ]
     },
     "execution_count": 32,
     "metadata": {},
     "output_type": "execute_result"
    }
   ],
   "source": [
    "# merging times df with the span to calculate reorder ratio\n",
    "up_ratio = pd.merge(times, span, on=['user_id', 'product_id'], how='left')\n",
    "up_ratio.head()"
   ]
  },
  {
   "cell_type": "code",
   "execution_count": 33,
   "metadata": {
    "scrolled": true
   },
   "outputs": [
    {
     "data": {
      "text/html": [
       "<div>\n",
       "<style scoped>\n",
       "    .dataframe tbody tr th:only-of-type {\n",
       "        vertical-align: middle;\n",
       "    }\n",
       "\n",
       "    .dataframe tbody tr th {\n",
       "        vertical-align: top;\n",
       "    }\n",
       "\n",
       "    .dataframe thead th {\n",
       "        text-align: right;\n",
       "    }\n",
       "</style>\n",
       "<table border=\"1\" class=\"dataframe\">\n",
       "  <thead>\n",
       "    <tr style=\"text-align: right;\">\n",
       "      <th></th>\n",
       "      <th>user_id</th>\n",
       "      <th>product_id</th>\n",
       "      <th>amt_bought</th>\n",
       "      <th>total_orders</th>\n",
       "      <th>first_order_num</th>\n",
       "      <th>range</th>\n",
       "      <th>reorder_ratio_up</th>\n",
       "    </tr>\n",
       "  </thead>\n",
       "  <tbody>\n",
       "    <tr>\n",
       "      <td>0</td>\n",
       "      <td>1</td>\n",
       "      <td>196</td>\n",
       "      <td>10</td>\n",
       "      <td>10</td>\n",
       "      <td>1</td>\n",
       "      <td>10</td>\n",
       "      <td>1.000000</td>\n",
       "    </tr>\n",
       "    <tr>\n",
       "      <td>1</td>\n",
       "      <td>1</td>\n",
       "      <td>10258</td>\n",
       "      <td>9</td>\n",
       "      <td>10</td>\n",
       "      <td>2</td>\n",
       "      <td>9</td>\n",
       "      <td>1.000000</td>\n",
       "    </tr>\n",
       "    <tr>\n",
       "      <td>2</td>\n",
       "      <td>1</td>\n",
       "      <td>10326</td>\n",
       "      <td>1</td>\n",
       "      <td>10</td>\n",
       "      <td>5</td>\n",
       "      <td>6</td>\n",
       "      <td>0.166667</td>\n",
       "    </tr>\n",
       "    <tr>\n",
       "      <td>3</td>\n",
       "      <td>1</td>\n",
       "      <td>12427</td>\n",
       "      <td>10</td>\n",
       "      <td>10</td>\n",
       "      <td>1</td>\n",
       "      <td>10</td>\n",
       "      <td>1.000000</td>\n",
       "    </tr>\n",
       "    <tr>\n",
       "      <td>4</td>\n",
       "      <td>1</td>\n",
       "      <td>13032</td>\n",
       "      <td>3</td>\n",
       "      <td>10</td>\n",
       "      <td>2</td>\n",
       "      <td>9</td>\n",
       "      <td>0.333333</td>\n",
       "    </tr>\n",
       "  </tbody>\n",
       "</table>\n",
       "</div>"
      ],
      "text/plain": [
       "   user_id  product_id  amt_bought  total_orders  first_order_num  range  \\\n",
       "0        1         196          10            10                1     10   \n",
       "1        1       10258           9            10                2      9   \n",
       "2        1       10326           1            10                5      6   \n",
       "3        1       12427          10            10                1     10   \n",
       "4        1       13032           3            10                2      9   \n",
       "\n",
       "   reorder_ratio_up  \n",
       "0          1.000000  \n",
       "1          1.000000  \n",
       "2          0.166667  \n",
       "3          1.000000  \n",
       "4          0.333333  "
      ]
     },
     "execution_count": 33,
     "metadata": {},
     "output_type": "execute_result"
    }
   ],
   "source": [
    "#calculating the ratio.\n",
    "up_ratio['reorder_ratio_up'] = up_ratio.amt_bought / up_ratio.range\n",
    "up_ratio.head()"
   ]
  },
  {
   "cell_type": "code",
   "execution_count": 34,
   "metadata": {},
   "outputs": [
    {
     "name": "stdout",
     "output_type": "stream",
     "text": [
      "<class 'pandas.core.frame.DataFrame'>\n",
      "Int64Index: 13307953 entries, 0 to 13307952\n",
      "Data columns (total 3 columns):\n",
      "user_id             int64\n",
      "product_id          int64\n",
      "reorder_ratio_up    float64\n",
      "dtypes: float64(1), int64(2)\n",
      "memory usage: 406.1 MB\n"
     ]
    }
   ],
   "source": [
    "# droppinf irrelevant columns\n",
    "up_ratio.drop(['amt_bought', 'total_orders', 'first_order_num', 'range'], axis=1, inplace=True)\n",
    "up_ratio.info()"
   ]
  },
  {
   "cell_type": "code",
   "execution_count": 35,
   "metadata": {},
   "outputs": [
    {
     "data": {
      "text/plain": [
       "124"
      ]
     },
     "execution_count": 35,
     "metadata": {},
     "output_type": "execute_result"
    }
   ],
   "source": [
    "# deleting all the unwanted df.\n",
    "del span, first_order_num, total_orders\n",
    "gc.collect()"
   ]
  },
  {
   "cell_type": "code",
   "execution_count": 36,
   "metadata": {},
   "outputs": [
    {
     "name": "stdout",
     "output_type": "stream",
     "text": [
      "<class 'pandas.core.frame.DataFrame'>\n",
      "Int64Index: 13307953 entries, 0 to 13307952\n",
      "Data columns (total 4 columns):\n",
      "user_id             int64\n",
      "product_id          int64\n",
      "times_bought_up     uint16\n",
      "reorder_ratio_up    float64\n",
      "dtypes: float64(1), int64(2), uint16(1)\n",
      "memory usage: 431.5 MB\n"
     ]
    }
   ],
   "source": [
    "# merging up ratio to construct user-product df\n",
    "user_product = user_product.merge(up_ratio, on=['user_id', 'product_id'], how='left')\n",
    "user_product.info()\n"
   ]
  },
  {
   "cell_type": "code",
   "execution_count": 37,
   "metadata": {},
   "outputs": [],
   "source": [
    "# Reversing the order number for each product.\n",
    "prior_orders['reversed_order'] = prior_orders.groupby(by=['user_id'])['order_number'].transform(max) - prior_orders.order_number + 1"
   ]
  },
  {
   "cell_type": "code",
   "execution_count": 38,
   "metadata": {},
   "outputs": [
    {
     "data": {
      "text/html": [
       "<div>\n",
       "<style scoped>\n",
       "    .dataframe tbody tr th:only-of-type {\n",
       "        vertical-align: middle;\n",
       "    }\n",
       "\n",
       "    .dataframe tbody tr th {\n",
       "        vertical-align: top;\n",
       "    }\n",
       "\n",
       "    .dataframe thead th {\n",
       "        text-align: right;\n",
       "    }\n",
       "</style>\n",
       "<table border=\"1\" class=\"dataframe\">\n",
       "  <thead>\n",
       "    <tr style=\"text-align: right;\">\n",
       "      <th></th>\n",
       "      <th>order_id</th>\n",
       "      <th>product_id</th>\n",
       "      <th>add_to_cart_order</th>\n",
       "      <th>reordered</th>\n",
       "      <th>user_id</th>\n",
       "      <th>eval_set</th>\n",
       "      <th>order_number</th>\n",
       "      <th>order_dow</th>\n",
       "      <th>order_hour_of_day</th>\n",
       "      <th>days_since_prior_order</th>\n",
       "      <th>reversed_order</th>\n",
       "    </tr>\n",
       "  </thead>\n",
       "  <tbody>\n",
       "    <tr>\n",
       "      <td>56</td>\n",
       "      <td>6</td>\n",
       "      <td>40462</td>\n",
       "      <td>1</td>\n",
       "      <td>0</td>\n",
       "      <td>22352</td>\n",
       "      <td>prior</td>\n",
       "      <td>4</td>\n",
       "      <td>1</td>\n",
       "      <td>12</td>\n",
       "      <td>30.0</td>\n",
       "      <td>5</td>\n",
       "    </tr>\n",
       "    <tr>\n",
       "      <td>57</td>\n",
       "      <td>6</td>\n",
       "      <td>15873</td>\n",
       "      <td>2</td>\n",
       "      <td>0</td>\n",
       "      <td>22352</td>\n",
       "      <td>prior</td>\n",
       "      <td>4</td>\n",
       "      <td>1</td>\n",
       "      <td>12</td>\n",
       "      <td>30.0</td>\n",
       "      <td>5</td>\n",
       "    </tr>\n",
       "    <tr>\n",
       "      <td>58</td>\n",
       "      <td>6</td>\n",
       "      <td>41897</td>\n",
       "      <td>3</td>\n",
       "      <td>0</td>\n",
       "      <td>22352</td>\n",
       "      <td>prior</td>\n",
       "      <td>4</td>\n",
       "      <td>1</td>\n",
       "      <td>12</td>\n",
       "      <td>30.0</td>\n",
       "      <td>5</td>\n",
       "    </tr>\n",
       "    <tr>\n",
       "      <td>59</td>\n",
       "      <td>7</td>\n",
       "      <td>34050</td>\n",
       "      <td>1</td>\n",
       "      <td>0</td>\n",
       "      <td>142903</td>\n",
       "      <td>prior</td>\n",
       "      <td>11</td>\n",
       "      <td>2</td>\n",
       "      <td>14</td>\n",
       "      <td>30.0</td>\n",
       "      <td>2</td>\n",
       "    </tr>\n",
       "    <tr>\n",
       "      <td>60</td>\n",
       "      <td>7</td>\n",
       "      <td>46802</td>\n",
       "      <td>2</td>\n",
       "      <td>0</td>\n",
       "      <td>142903</td>\n",
       "      <td>prior</td>\n",
       "      <td>11</td>\n",
       "      <td>2</td>\n",
       "      <td>14</td>\n",
       "      <td>30.0</td>\n",
       "      <td>2</td>\n",
       "    </tr>\n",
       "  </tbody>\n",
       "</table>\n",
       "</div>"
      ],
      "text/plain": [
       "    order_id  product_id  add_to_cart_order  reordered  user_id eval_set  \\\n",
       "56         6       40462                  1          0    22352    prior   \n",
       "57         6       15873                  2          0    22352    prior   \n",
       "58         6       41897                  3          0    22352    prior   \n",
       "59         7       34050                  1          0   142903    prior   \n",
       "60         7       46802                  2          0   142903    prior   \n",
       "\n",
       "    order_number  order_dow  order_hour_of_day  days_since_prior_order  \\\n",
       "56             4          1                 12                    30.0   \n",
       "57             4          1                 12                    30.0   \n",
       "58             4          1                 12                    30.0   \n",
       "59            11          2                 14                    30.0   \n",
       "60            11          2                 14                    30.0   \n",
       "\n",
       "    reversed_order  \n",
       "56               5  \n",
       "57               5  \n",
       "58               5  \n",
       "59               2  \n",
       "60               2  "
      ]
     },
     "execution_count": 38,
     "metadata": {},
     "output_type": "execute_result"
    }
   ],
   "source": [
    "# keeping only the first 5 orders from the order_number_back.\n",
    "last_5 = prior_orders.loc[prior_orders.reversed_order <= 5]\n",
    "last_5.head()"
   ]
  },
  {
   "cell_type": "code",
   "execution_count": 39,
   "metadata": {},
   "outputs": [
    {
     "data": {
      "text/html": [
       "<div>\n",
       "<style scoped>\n",
       "    .dataframe tbody tr th:only-of-type {\n",
       "        vertical-align: middle;\n",
       "    }\n",
       "\n",
       "    .dataframe tbody tr th {\n",
       "        vertical-align: top;\n",
       "    }\n",
       "\n",
       "    .dataframe thead th {\n",
       "        text-align: right;\n",
       "    }\n",
       "</style>\n",
       "<table border=\"1\" class=\"dataframe\">\n",
       "  <thead>\n",
       "    <tr style=\"text-align: right;\">\n",
       "      <th></th>\n",
       "      <th>user_id</th>\n",
       "      <th>product_id</th>\n",
       "      <th>last_five_up</th>\n",
       "    </tr>\n",
       "  </thead>\n",
       "  <tbody>\n",
       "    <tr>\n",
       "      <td>0</td>\n",
       "      <td>1</td>\n",
       "      <td>196</td>\n",
       "      <td>5</td>\n",
       "    </tr>\n",
       "    <tr>\n",
       "      <td>1</td>\n",
       "      <td>1</td>\n",
       "      <td>10258</td>\n",
       "      <td>5</td>\n",
       "    </tr>\n",
       "    <tr>\n",
       "      <td>2</td>\n",
       "      <td>1</td>\n",
       "      <td>12427</td>\n",
       "      <td>5</td>\n",
       "    </tr>\n",
       "    <tr>\n",
       "      <td>3</td>\n",
       "      <td>1</td>\n",
       "      <td>13032</td>\n",
       "      <td>2</td>\n",
       "    </tr>\n",
       "    <tr>\n",
       "      <td>4</td>\n",
       "      <td>1</td>\n",
       "      <td>25133</td>\n",
       "      <td>5</td>\n",
       "    </tr>\n",
       "  </tbody>\n",
       "</table>\n",
       "</div>"
      ],
      "text/plain": [
       "   user_id  product_id  last_five_up\n",
       "0        1         196             5\n",
       "1        1       10258             5\n",
       "2        1       12427             5\n",
       "3        1       13032             2\n",
       "4        1       25133             5"
      ]
     },
     "execution_count": 39,
     "metadata": {},
     "output_type": "execute_result"
    }
   ],
   "source": [
    "# product bought by users in the last_five orders.\n",
    "last_five = last_5.groupby(by=['user_id', 'product_id'])['order_id'].count().to_frame('last_five_up').reset_index()\n",
    "last_five.head()"
   ]
  },
  {
   "cell_type": "code",
   "execution_count": 40,
   "metadata": {
    "scrolled": true
   },
   "outputs": [
    {
     "data": {
      "text/html": [
       "<div>\n",
       "<style scoped>\n",
       "    .dataframe tbody tr th:only-of-type {\n",
       "        vertical-align: middle;\n",
       "    }\n",
       "\n",
       "    .dataframe tbody tr th {\n",
       "        vertical-align: top;\n",
       "    }\n",
       "\n",
       "    .dataframe thead th {\n",
       "        text-align: right;\n",
       "    }\n",
       "</style>\n",
       "<table border=\"1\" class=\"dataframe\">\n",
       "  <thead>\n",
       "    <tr style=\"text-align: right;\">\n",
       "      <th></th>\n",
       "      <th>user_id</th>\n",
       "      <th>product_id</th>\n",
       "      <th>last_five_up</th>\n",
       "      <th>ratio_last_five_up</th>\n",
       "    </tr>\n",
       "  </thead>\n",
       "  <tbody>\n",
       "    <tr>\n",
       "      <td>0</td>\n",
       "      <td>1</td>\n",
       "      <td>196</td>\n",
       "      <td>5</td>\n",
       "      <td>1.0</td>\n",
       "    </tr>\n",
       "    <tr>\n",
       "      <td>1</td>\n",
       "      <td>1</td>\n",
       "      <td>10258</td>\n",
       "      <td>5</td>\n",
       "      <td>1.0</td>\n",
       "    </tr>\n",
       "    <tr>\n",
       "      <td>2</td>\n",
       "      <td>1</td>\n",
       "      <td>12427</td>\n",
       "      <td>5</td>\n",
       "      <td>1.0</td>\n",
       "    </tr>\n",
       "    <tr>\n",
       "      <td>3</td>\n",
       "      <td>1</td>\n",
       "      <td>13032</td>\n",
       "      <td>2</td>\n",
       "      <td>0.4</td>\n",
       "    </tr>\n",
       "    <tr>\n",
       "      <td>4</td>\n",
       "      <td>1</td>\n",
       "      <td>25133</td>\n",
       "      <td>5</td>\n",
       "      <td>1.0</td>\n",
       "    </tr>\n",
       "  </tbody>\n",
       "</table>\n",
       "</div>"
      ],
      "text/plain": [
       "   user_id  product_id  last_five_up  ratio_last_five_up\n",
       "0        1         196             5                 1.0\n",
       "1        1       10258             5                 1.0\n",
       "2        1       12427             5                 1.0\n",
       "3        1       13032             2                 0.4\n",
       "4        1       25133             5                 1.0"
      ]
     },
     "execution_count": 40,
     "metadata": {},
     "output_type": "execute_result"
    }
   ],
   "source": [
    "# ratio of the products bought in the last_five orders.\n",
    "last_five['ratio_last_five_up'] = last_five.last_five_up / 5.0\n",
    "last_five.head()"
   ]
  },
  {
   "cell_type": "code",
   "execution_count": 41,
   "metadata": {},
   "outputs": [],
   "source": [
    "# merging this feature with uxp df.\n",
    "user_product = user_product.merge(last_five, on=['user_id', 'product_id'], how='left')"
   ]
  },
  {
   "cell_type": "code",
   "execution_count": 42,
   "metadata": {},
   "outputs": [
    {
     "data": {
      "text/plain": [
       "53"
      ]
     },
     "execution_count": 42,
     "metadata": {},
     "output_type": "execute_result"
    }
   ],
   "source": [
    "del last_five, last_5\n",
    "gc.collect()"
   ]
  },
  {
   "cell_type": "code",
   "execution_count": 43,
   "metadata": {},
   "outputs": [
    {
     "name": "stdout",
     "output_type": "stream",
     "text": [
      "<class 'pandas.core.frame.DataFrame'>\n",
      "Int64Index: 13307953 entries, 0 to 13307952\n",
      "Data columns (total 6 columns):\n",
      "user_id               int32\n",
      "product_id            int32\n",
      "times_bought_up       uint16\n",
      "reorder_ratio_up      float32\n",
      "last_five_up          float32\n",
      "ratio_last_five_up    float32\n",
      "dtypes: float32(3), int32(2), uint16(1)\n",
      "memory usage: 380.7 MB\n"
     ]
    }
   ],
   "source": [
    "# filling the NAN values with 0.\n",
    "user_product.fillna(0, inplace=True)\n",
    "memory_cruncher(user_product)\n",
    "user_product.info()"
   ]
  },
  {
   "cell_type": "markdown",
   "metadata": {},
   "source": [
    "#  merge user, product, user-product df"
   ]
  },
  {
   "cell_type": "code",
   "execution_count": 44,
   "metadata": {},
   "outputs": [
    {
     "name": "stdout",
     "output_type": "stream",
     "text": [
      "<class 'pandas.core.frame.DataFrame'>\n",
      "Int64Index: 13307953 entries, 0 to 13307952\n",
      "Data columns (total 16 columns):\n",
      "user_id                   int32\n",
      "product_id                int32\n",
      "times_bought_up           uint16\n",
      "reorder_ratio_up          float32\n",
      "last_five_up              float32\n",
      "ratio_last_five_up        float32\n",
      "user_totals_u             int32\n",
      "number_of_orders_u        float32\n",
      "average_days_between_u    float32\n",
      "most_dow_u                int32\n",
      "most_hour_u               int32\n",
      "reorder_ratio_u           float32\n",
      "specific_items_p          int32\n",
      "total_purchased_p         int32\n",
      "reorder_ratio_p           float32\n",
      "cart_position_p           float32\n",
      "dtypes: float32(8), int32(7), uint16(1)\n",
      "memory usage: 888.4 MB\n"
     ]
    }
   ],
   "source": [
    "# Merge user-product features with the user features\n",
    "df1 = user_product.merge(user, on='user_id', how='left')\n",
    "# Merging product features with df for a complete df with all three categories of predictor variables\n",
    "df1 = df1.merge(product, on='product_id', how='left')\n",
    "df1.info()"
   ]
  },
  {
   "cell_type": "code",
   "execution_count": 45,
   "metadata": {},
   "outputs": [
    {
     "data": {
      "text/plain": [
       "60"
      ]
     },
     "execution_count": 45,
     "metadata": {},
     "output_type": "execute_result"
    }
   ],
   "source": [
    "del user, product, user_product, prior\n",
    "gc.collect()"
   ]
  },
  {
   "cell_type": "markdown",
   "metadata": {},
   "source": [
    "# Preprocessing"
   ]
  },
  {
   "cell_type": "code",
   "execution_count": 46,
   "metadata": {},
   "outputs": [
    {
     "data": {
      "text/html": [
       "<div>\n",
       "<style scoped>\n",
       "    .dataframe tbody tr th:only-of-type {\n",
       "        vertical-align: middle;\n",
       "    }\n",
       "\n",
       "    .dataframe tbody tr th {\n",
       "        vertical-align: top;\n",
       "    }\n",
       "\n",
       "    .dataframe thead th {\n",
       "        text-align: right;\n",
       "    }\n",
       "</style>\n",
       "<table border=\"1\" class=\"dataframe\">\n",
       "  <thead>\n",
       "    <tr style=\"text-align: right;\">\n",
       "      <th></th>\n",
       "      <th>user_id</th>\n",
       "      <th>eval_set</th>\n",
       "      <th>order_id</th>\n",
       "    </tr>\n",
       "  </thead>\n",
       "  <tbody>\n",
       "    <tr>\n",
       "      <td>10</td>\n",
       "      <td>1</td>\n",
       "      <td>train</td>\n",
       "      <td>1187899</td>\n",
       "    </tr>\n",
       "    <tr>\n",
       "      <td>25</td>\n",
       "      <td>2</td>\n",
       "      <td>train</td>\n",
       "      <td>1492625</td>\n",
       "    </tr>\n",
       "    <tr>\n",
       "      <td>38</td>\n",
       "      <td>3</td>\n",
       "      <td>test</td>\n",
       "      <td>2774568</td>\n",
       "    </tr>\n",
       "    <tr>\n",
       "      <td>44</td>\n",
       "      <td>4</td>\n",
       "      <td>test</td>\n",
       "      <td>329954</td>\n",
       "    </tr>\n",
       "    <tr>\n",
       "      <td>49</td>\n",
       "      <td>5</td>\n",
       "      <td>train</td>\n",
       "      <td>2196797</td>\n",
       "    </tr>\n",
       "  </tbody>\n",
       "</table>\n",
       "</div>"
      ],
      "text/plain": [
       "    user_id eval_set  order_id\n",
       "10        1    train   1187899\n",
       "25        2    train   1492625\n",
       "38        3     test   2774568\n",
       "44        4     test    329954\n",
       "49        5    train   2196797"
      ]
     },
     "execution_count": 46,
     "metadata": {},
     "output_type": "execute_result"
    }
   ],
   "source": [
    "# extracting training and test for identifying in df\n",
    "future_orders = orders.loc[((orders.eval_set == 'train') | (orders.eval_set == 'test')), ['user_id', 'eval_set', 'order_id']]\n",
    "future_orders.head()"
   ]
  },
  {
   "cell_type": "code",
   "execution_count": 47,
   "metadata": {},
   "outputs": [
    {
     "data": {
      "text/html": [
       "<div>\n",
       "<style scoped>\n",
       "    .dataframe tbody tr th:only-of-type {\n",
       "        vertical-align: middle;\n",
       "    }\n",
       "\n",
       "    .dataframe tbody tr th {\n",
       "        vertical-align: top;\n",
       "    }\n",
       "\n",
       "    .dataframe thead th {\n",
       "        text-align: right;\n",
       "    }\n",
       "</style>\n",
       "<table border=\"1\" class=\"dataframe\">\n",
       "  <thead>\n",
       "    <tr style=\"text-align: right;\">\n",
       "      <th></th>\n",
       "      <th>user_id</th>\n",
       "      <th>product_id</th>\n",
       "      <th>times_bought_up</th>\n",
       "      <th>reorder_ratio_up</th>\n",
       "      <th>last_five_up</th>\n",
       "      <th>ratio_last_five_up</th>\n",
       "      <th>user_totals_u</th>\n",
       "      <th>number_of_orders_u</th>\n",
       "      <th>average_days_between_u</th>\n",
       "      <th>most_dow_u</th>\n",
       "      <th>most_hour_u</th>\n",
       "      <th>reorder_ratio_u</th>\n",
       "      <th>specific_items_p</th>\n",
       "      <th>total_purchased_p</th>\n",
       "      <th>reorder_ratio_p</th>\n",
       "      <th>cart_position_p</th>\n",
       "      <th>eval_set</th>\n",
       "      <th>order_id</th>\n",
       "    </tr>\n",
       "  </thead>\n",
       "  <tbody>\n",
       "    <tr>\n",
       "      <td>0</td>\n",
       "      <td>1</td>\n",
       "      <td>196</td>\n",
       "      <td>10</td>\n",
       "      <td>1.000000</td>\n",
       "      <td>5.0</td>\n",
       "      <td>1.0</td>\n",
       "      <td>10</td>\n",
       "      <td>5.81356</td>\n",
       "      <td>20.25926</td>\n",
       "      <td>4</td>\n",
       "      <td>7</td>\n",
       "      <td>0.694915</td>\n",
       "      <td>59</td>\n",
       "      <td>35791</td>\n",
       "      <td>0.776480</td>\n",
       "      <td>3.721774</td>\n",
       "      <td>train</td>\n",
       "      <td>1187899</td>\n",
       "    </tr>\n",
       "    <tr>\n",
       "      <td>1</td>\n",
       "      <td>1</td>\n",
       "      <td>10258</td>\n",
       "      <td>9</td>\n",
       "      <td>1.000000</td>\n",
       "      <td>5.0</td>\n",
       "      <td>1.0</td>\n",
       "      <td>10</td>\n",
       "      <td>5.81356</td>\n",
       "      <td>20.25926</td>\n",
       "      <td>4</td>\n",
       "      <td>7</td>\n",
       "      <td>0.694915</td>\n",
       "      <td>59</td>\n",
       "      <td>1946</td>\n",
       "      <td>0.713772</td>\n",
       "      <td>4.277493</td>\n",
       "      <td>train</td>\n",
       "      <td>1187899</td>\n",
       "    </tr>\n",
       "    <tr>\n",
       "      <td>2</td>\n",
       "      <td>1</td>\n",
       "      <td>10326</td>\n",
       "      <td>1</td>\n",
       "      <td>0.166667</td>\n",
       "      <td>0.0</td>\n",
       "      <td>0.0</td>\n",
       "      <td>10</td>\n",
       "      <td>5.81356</td>\n",
       "      <td>20.25926</td>\n",
       "      <td>4</td>\n",
       "      <td>7</td>\n",
       "      <td>0.694915</td>\n",
       "      <td>59</td>\n",
       "      <td>5526</td>\n",
       "      <td>0.652009</td>\n",
       "      <td>4.191097</td>\n",
       "      <td>train</td>\n",
       "      <td>1187899</td>\n",
       "    </tr>\n",
       "    <tr>\n",
       "      <td>3</td>\n",
       "      <td>1</td>\n",
       "      <td>12427</td>\n",
       "      <td>10</td>\n",
       "      <td>1.000000</td>\n",
       "      <td>5.0</td>\n",
       "      <td>1.0</td>\n",
       "      <td>10</td>\n",
       "      <td>5.81356</td>\n",
       "      <td>20.25926</td>\n",
       "      <td>4</td>\n",
       "      <td>7</td>\n",
       "      <td>0.694915</td>\n",
       "      <td>59</td>\n",
       "      <td>6476</td>\n",
       "      <td>0.740735</td>\n",
       "      <td>4.760037</td>\n",
       "      <td>train</td>\n",
       "      <td>1187899</td>\n",
       "    </tr>\n",
       "    <tr>\n",
       "      <td>4</td>\n",
       "      <td>1</td>\n",
       "      <td>13032</td>\n",
       "      <td>3</td>\n",
       "      <td>0.333333</td>\n",
       "      <td>2.0</td>\n",
       "      <td>0.4</td>\n",
       "      <td>10</td>\n",
       "      <td>5.81356</td>\n",
       "      <td>20.25926</td>\n",
       "      <td>4</td>\n",
       "      <td>7</td>\n",
       "      <td>0.694915</td>\n",
       "      <td>59</td>\n",
       "      <td>3751</td>\n",
       "      <td>0.657158</td>\n",
       "      <td>5.622767</td>\n",
       "      <td>train</td>\n",
       "      <td>1187899</td>\n",
       "    </tr>\n",
       "  </tbody>\n",
       "</table>\n",
       "</div>"
      ],
      "text/plain": [
       "   user_id  product_id  times_bought_up  reorder_ratio_up  last_five_up  \\\n",
       "0        1         196               10          1.000000           5.0   \n",
       "1        1       10258                9          1.000000           5.0   \n",
       "2        1       10326                1          0.166667           0.0   \n",
       "3        1       12427               10          1.000000           5.0   \n",
       "4        1       13032                3          0.333333           2.0   \n",
       "\n",
       "   ratio_last_five_up  user_totals_u  number_of_orders_u  \\\n",
       "0                 1.0             10             5.81356   \n",
       "1                 1.0             10             5.81356   \n",
       "2                 0.0             10             5.81356   \n",
       "3                 1.0             10             5.81356   \n",
       "4                 0.4             10             5.81356   \n",
       "\n",
       "   average_days_between_u  most_dow_u  most_hour_u  reorder_ratio_u  \\\n",
       "0                20.25926           4            7         0.694915   \n",
       "1                20.25926           4            7         0.694915   \n",
       "2                20.25926           4            7         0.694915   \n",
       "3                20.25926           4            7         0.694915   \n",
       "4                20.25926           4            7         0.694915   \n",
       "\n",
       "   specific_items_p  total_purchased_p  reorder_ratio_p  cart_position_p  \\\n",
       "0                59              35791         0.776480         3.721774   \n",
       "1                59               1946         0.713772         4.277493   \n",
       "2                59               5526         0.652009         4.191097   \n",
       "3                59               6476         0.740735         4.760037   \n",
       "4                59               3751         0.657158         5.622767   \n",
       "\n",
       "  eval_set  order_id  \n",
       "0    train   1187899  \n",
       "1    train   1187899  \n",
       "2    train   1187899  \n",
       "3    train   1187899  \n",
       "4    train   1187899  "
      ]
     },
     "execution_count": 47,
     "metadata": {},
     "output_type": "execute_result"
    }
   ],
   "source": [
    "# test and train merged with df1 to allow for seperation\n",
    "df1 = df1.merge(future_orders, on = 'user_id', how = 'left')\n",
    "df1.head()"
   ]
  },
  {
   "cell_type": "code",
   "execution_count": 48,
   "metadata": {},
   "outputs": [
    {
     "data": {
      "text/html": [
       "<div>\n",
       "<style scoped>\n",
       "    .dataframe tbody tr th:only-of-type {\n",
       "        vertical-align: middle;\n",
       "    }\n",
       "\n",
       "    .dataframe tbody tr th {\n",
       "        vertical-align: top;\n",
       "    }\n",
       "\n",
       "    .dataframe thead th {\n",
       "        text-align: right;\n",
       "    }\n",
       "</style>\n",
       "<table border=\"1\" class=\"dataframe\">\n",
       "  <thead>\n",
       "    <tr style=\"text-align: right;\">\n",
       "      <th></th>\n",
       "      <th>user_id</th>\n",
       "      <th>product_id</th>\n",
       "      <th>times_bought_up</th>\n",
       "      <th>reorder_ratio_up</th>\n",
       "      <th>last_five_up</th>\n",
       "      <th>ratio_last_five_up</th>\n",
       "      <th>user_totals_u</th>\n",
       "      <th>number_of_orders_u</th>\n",
       "      <th>average_days_between_u</th>\n",
       "      <th>most_dow_u</th>\n",
       "      <th>most_hour_u</th>\n",
       "      <th>reorder_ratio_u</th>\n",
       "      <th>specific_items_p</th>\n",
       "      <th>total_purchased_p</th>\n",
       "      <th>reorder_ratio_p</th>\n",
       "      <th>cart_position_p</th>\n",
       "      <th>eval_set</th>\n",
       "      <th>order_id</th>\n",
       "    </tr>\n",
       "  </thead>\n",
       "  <tbody>\n",
       "    <tr>\n",
       "      <td>0</td>\n",
       "      <td>1</td>\n",
       "      <td>196</td>\n",
       "      <td>10</td>\n",
       "      <td>1.000000</td>\n",
       "      <td>5.0</td>\n",
       "      <td>1.0</td>\n",
       "      <td>10</td>\n",
       "      <td>5.81356</td>\n",
       "      <td>20.25926</td>\n",
       "      <td>4</td>\n",
       "      <td>7</td>\n",
       "      <td>0.694915</td>\n",
       "      <td>59</td>\n",
       "      <td>35791</td>\n",
       "      <td>0.776480</td>\n",
       "      <td>3.721774</td>\n",
       "      <td>train</td>\n",
       "      <td>1187899</td>\n",
       "    </tr>\n",
       "    <tr>\n",
       "      <td>1</td>\n",
       "      <td>1</td>\n",
       "      <td>10258</td>\n",
       "      <td>9</td>\n",
       "      <td>1.000000</td>\n",
       "      <td>5.0</td>\n",
       "      <td>1.0</td>\n",
       "      <td>10</td>\n",
       "      <td>5.81356</td>\n",
       "      <td>20.25926</td>\n",
       "      <td>4</td>\n",
       "      <td>7</td>\n",
       "      <td>0.694915</td>\n",
       "      <td>59</td>\n",
       "      <td>1946</td>\n",
       "      <td>0.713772</td>\n",
       "      <td>4.277493</td>\n",
       "      <td>train</td>\n",
       "      <td>1187899</td>\n",
       "    </tr>\n",
       "    <tr>\n",
       "      <td>2</td>\n",
       "      <td>1</td>\n",
       "      <td>10326</td>\n",
       "      <td>1</td>\n",
       "      <td>0.166667</td>\n",
       "      <td>0.0</td>\n",
       "      <td>0.0</td>\n",
       "      <td>10</td>\n",
       "      <td>5.81356</td>\n",
       "      <td>20.25926</td>\n",
       "      <td>4</td>\n",
       "      <td>7</td>\n",
       "      <td>0.694915</td>\n",
       "      <td>59</td>\n",
       "      <td>5526</td>\n",
       "      <td>0.652009</td>\n",
       "      <td>4.191097</td>\n",
       "      <td>train</td>\n",
       "      <td>1187899</td>\n",
       "    </tr>\n",
       "    <tr>\n",
       "      <td>3</td>\n",
       "      <td>1</td>\n",
       "      <td>12427</td>\n",
       "      <td>10</td>\n",
       "      <td>1.000000</td>\n",
       "      <td>5.0</td>\n",
       "      <td>1.0</td>\n",
       "      <td>10</td>\n",
       "      <td>5.81356</td>\n",
       "      <td>20.25926</td>\n",
       "      <td>4</td>\n",
       "      <td>7</td>\n",
       "      <td>0.694915</td>\n",
       "      <td>59</td>\n",
       "      <td>6476</td>\n",
       "      <td>0.740735</td>\n",
       "      <td>4.760037</td>\n",
       "      <td>train</td>\n",
       "      <td>1187899</td>\n",
       "    </tr>\n",
       "    <tr>\n",
       "      <td>4</td>\n",
       "      <td>1</td>\n",
       "      <td>13032</td>\n",
       "      <td>3</td>\n",
       "      <td>0.333333</td>\n",
       "      <td>2.0</td>\n",
       "      <td>0.4</td>\n",
       "      <td>10</td>\n",
       "      <td>5.81356</td>\n",
       "      <td>20.25926</td>\n",
       "      <td>4</td>\n",
       "      <td>7</td>\n",
       "      <td>0.694915</td>\n",
       "      <td>59</td>\n",
       "      <td>3751</td>\n",
       "      <td>0.657158</td>\n",
       "      <td>5.622767</td>\n",
       "      <td>train</td>\n",
       "      <td>1187899</td>\n",
       "    </tr>\n",
       "  </tbody>\n",
       "</table>\n",
       "</div>"
      ],
      "text/plain": [
       "   user_id  product_id  times_bought_up  reorder_ratio_up  last_five_up  \\\n",
       "0        1         196               10          1.000000           5.0   \n",
       "1        1       10258                9          1.000000           5.0   \n",
       "2        1       10326                1          0.166667           0.0   \n",
       "3        1       12427               10          1.000000           5.0   \n",
       "4        1       13032                3          0.333333           2.0   \n",
       "\n",
       "   ratio_last_five_up  user_totals_u  number_of_orders_u  \\\n",
       "0                 1.0             10             5.81356   \n",
       "1                 1.0             10             5.81356   \n",
       "2                 0.0             10             5.81356   \n",
       "3                 1.0             10             5.81356   \n",
       "4                 0.4             10             5.81356   \n",
       "\n",
       "   average_days_between_u  most_dow_u  most_hour_u  reorder_ratio_u  \\\n",
       "0                20.25926           4            7         0.694915   \n",
       "1                20.25926           4            7         0.694915   \n",
       "2                20.25926           4            7         0.694915   \n",
       "3                20.25926           4            7         0.694915   \n",
       "4                20.25926           4            7         0.694915   \n",
       "\n",
       "   specific_items_p  total_purchased_p  reorder_ratio_p  cart_position_p  \\\n",
       "0                59              35791         0.776480         3.721774   \n",
       "1                59               1946         0.713772         4.277493   \n",
       "2                59               5526         0.652009         4.191097   \n",
       "3                59               6476         0.740735         4.760037   \n",
       "4                59               3751         0.657158         5.622767   \n",
       "\n",
       "  eval_set  order_id  \n",
       "0    train   1187899  \n",
       "1    train   1187899  \n",
       "2    train   1187899  \n",
       "3    train   1187899  \n",
       "4    train   1187899  "
      ]
     },
     "execution_count": 48,
     "metadata": {},
     "output_type": "execute_result"
    }
   ],
   "source": [
    "# seperation of training rows\n",
    "df_train = df1[df1.eval_set == 'train']\n",
    "df_train.head()"
   ]
  },
  {
   "cell_type": "code",
   "execution_count": 49,
   "metadata": {},
   "outputs": [
    {
     "name": "stdout",
     "output_type": "stream",
     "text": [
      "<class 'pandas.core.frame.DataFrame'>\n",
      "Int64Index: 8474661 entries, 0 to 8474660\n",
      "Data columns (total 19 columns):\n",
      "user_id                   int32\n",
      "product_id                int32\n",
      "times_bought_up           uint16\n",
      "reorder_ratio_up          float32\n",
      "last_five_up              float32\n",
      "ratio_last_five_up        float32\n",
      "user_totals_u             int32\n",
      "number_of_orders_u        float32\n",
      "average_days_between_u    float32\n",
      "most_dow_u                int32\n",
      "most_hour_u               int32\n",
      "reorder_ratio_u           float32\n",
      "specific_items_p          int32\n",
      "total_purchased_p         int32\n",
      "reorder_ratio_p           float32\n",
      "cart_position_p           float32\n",
      "eval_set                  object\n",
      "order_id                  int64\n",
      "reordered                 float64\n",
      "dtypes: float32(8), float64(1), int32(7), int64(1), object(1), uint16(1)\n",
      "memory usage: 759.7+ MB\n"
     ]
    }
   ],
   "source": [
    "# retrieves the reorder column from the train df\n",
    "df_train = df_train.merge(train[['product_id', 'order_id', 'reordered']], on = ['product_id', 'order_id'], how = 'left')\n",
    "df_train.info()"
   ]
  },
  {
   "cell_type": "code",
   "execution_count": 50,
   "metadata": {},
   "outputs": [],
   "source": [
    "# order_id and eval set are no longer relevant\n",
    "df_train.drop(['order_id', 'eval_set'], axis = 1, inplace = True)"
   ]
  },
  {
   "cell_type": "code",
   "execution_count": 51,
   "metadata": {},
   "outputs": [],
   "source": [
    "# fill all NaN with zero, mostly reordered column\n",
    "df_train.fillna(0, inplace = True)"
   ]
  },
  {
   "cell_type": "code",
   "execution_count": 52,
   "metadata": {},
   "outputs": [
    {
     "data": {
      "text/html": [
       "<div>\n",
       "<style scoped>\n",
       "    .dataframe tbody tr th:only-of-type {\n",
       "        vertical-align: middle;\n",
       "    }\n",
       "\n",
       "    .dataframe tbody tr th {\n",
       "        vertical-align: top;\n",
       "    }\n",
       "\n",
       "    .dataframe thead th {\n",
       "        text-align: right;\n",
       "    }\n",
       "</style>\n",
       "<table border=\"1\" class=\"dataframe\">\n",
       "  <thead>\n",
       "    <tr style=\"text-align: right;\">\n",
       "      <th></th>\n",
       "      <th>user_id</th>\n",
       "      <th>product_id</th>\n",
       "      <th>times_bought_up</th>\n",
       "      <th>reorder_ratio_up</th>\n",
       "      <th>last_five_up</th>\n",
       "      <th>ratio_last_five_up</th>\n",
       "      <th>user_totals_u</th>\n",
       "      <th>number_of_orders_u</th>\n",
       "      <th>average_days_between_u</th>\n",
       "      <th>most_dow_u</th>\n",
       "      <th>most_hour_u</th>\n",
       "      <th>reorder_ratio_u</th>\n",
       "      <th>specific_items_p</th>\n",
       "      <th>total_purchased_p</th>\n",
       "      <th>reorder_ratio_p</th>\n",
       "      <th>cart_position_p</th>\n",
       "      <th>eval_set</th>\n",
       "      <th>order_id</th>\n",
       "    </tr>\n",
       "  </thead>\n",
       "  <tbody>\n",
       "    <tr>\n",
       "      <td>120</td>\n",
       "      <td>3</td>\n",
       "      <td>248</td>\n",
       "      <td>1</td>\n",
       "      <td>0.090909</td>\n",
       "      <td>0.0</td>\n",
       "      <td>0.0</td>\n",
       "      <td>12</td>\n",
       "      <td>6.0</td>\n",
       "      <td>11.48718</td>\n",
       "      <td>0</td>\n",
       "      <td>16</td>\n",
       "      <td>0.625</td>\n",
       "      <td>88</td>\n",
       "      <td>6371</td>\n",
       "      <td>0.400251</td>\n",
       "      <td>10.620782</td>\n",
       "      <td>test</td>\n",
       "      <td>2774568</td>\n",
       "    </tr>\n",
       "    <tr>\n",
       "      <td>121</td>\n",
       "      <td>3</td>\n",
       "      <td>1005</td>\n",
       "      <td>1</td>\n",
       "      <td>0.333333</td>\n",
       "      <td>1.0</td>\n",
       "      <td>0.2</td>\n",
       "      <td>12</td>\n",
       "      <td>6.0</td>\n",
       "      <td>11.48718</td>\n",
       "      <td>0</td>\n",
       "      <td>16</td>\n",
       "      <td>0.625</td>\n",
       "      <td>88</td>\n",
       "      <td>463</td>\n",
       "      <td>0.440605</td>\n",
       "      <td>9.498920</td>\n",
       "      <td>test</td>\n",
       "      <td>2774568</td>\n",
       "    </tr>\n",
       "    <tr>\n",
       "      <td>122</td>\n",
       "      <td>3</td>\n",
       "      <td>1819</td>\n",
       "      <td>3</td>\n",
       "      <td>0.333333</td>\n",
       "      <td>0.0</td>\n",
       "      <td>0.0</td>\n",
       "      <td>12</td>\n",
       "      <td>6.0</td>\n",
       "      <td>11.48718</td>\n",
       "      <td>0</td>\n",
       "      <td>16</td>\n",
       "      <td>0.625</td>\n",
       "      <td>88</td>\n",
       "      <td>2424</td>\n",
       "      <td>0.492162</td>\n",
       "      <td>9.287541</td>\n",
       "      <td>test</td>\n",
       "      <td>2774568</td>\n",
       "    </tr>\n",
       "    <tr>\n",
       "      <td>123</td>\n",
       "      <td>3</td>\n",
       "      <td>7503</td>\n",
       "      <td>1</td>\n",
       "      <td>0.100000</td>\n",
       "      <td>0.0</td>\n",
       "      <td>0.0</td>\n",
       "      <td>12</td>\n",
       "      <td>6.0</td>\n",
       "      <td>11.48718</td>\n",
       "      <td>0</td>\n",
       "      <td>16</td>\n",
       "      <td>0.625</td>\n",
       "      <td>88</td>\n",
       "      <td>12474</td>\n",
       "      <td>0.553551</td>\n",
       "      <td>9.547379</td>\n",
       "      <td>test</td>\n",
       "      <td>2774568</td>\n",
       "    </tr>\n",
       "    <tr>\n",
       "      <td>124</td>\n",
       "      <td>3</td>\n",
       "      <td>8021</td>\n",
       "      <td>1</td>\n",
       "      <td>0.090909</td>\n",
       "      <td>0.0</td>\n",
       "      <td>0.0</td>\n",
       "      <td>12</td>\n",
       "      <td>6.0</td>\n",
       "      <td>11.48718</td>\n",
       "      <td>0</td>\n",
       "      <td>16</td>\n",
       "      <td>0.625</td>\n",
       "      <td>88</td>\n",
       "      <td>27864</td>\n",
       "      <td>0.591157</td>\n",
       "      <td>8.822854</td>\n",
       "      <td>test</td>\n",
       "      <td>2774568</td>\n",
       "    </tr>\n",
       "  </tbody>\n",
       "</table>\n",
       "</div>"
      ],
      "text/plain": [
       "     user_id  product_id  times_bought_up  reorder_ratio_up  last_five_up  \\\n",
       "120        3         248                1          0.090909           0.0   \n",
       "121        3        1005                1          0.333333           1.0   \n",
       "122        3        1819                3          0.333333           0.0   \n",
       "123        3        7503                1          0.100000           0.0   \n",
       "124        3        8021                1          0.090909           0.0   \n",
       "\n",
       "     ratio_last_five_up  user_totals_u  number_of_orders_u  \\\n",
       "120                 0.0             12                 6.0   \n",
       "121                 0.2             12                 6.0   \n",
       "122                 0.0             12                 6.0   \n",
       "123                 0.0             12                 6.0   \n",
       "124                 0.0             12                 6.0   \n",
       "\n",
       "     average_days_between_u  most_dow_u  most_hour_u  reorder_ratio_u  \\\n",
       "120                11.48718           0           16            0.625   \n",
       "121                11.48718           0           16            0.625   \n",
       "122                11.48718           0           16            0.625   \n",
       "123                11.48718           0           16            0.625   \n",
       "124                11.48718           0           16            0.625   \n",
       "\n",
       "     specific_items_p  total_purchased_p  reorder_ratio_p  cart_position_p  \\\n",
       "120                88               6371         0.400251        10.620782   \n",
       "121                88                463         0.440605         9.498920   \n",
       "122                88               2424         0.492162         9.287541   \n",
       "123                88              12474         0.553551         9.547379   \n",
       "124                88              27864         0.591157         8.822854   \n",
       "\n",
       "    eval_set  order_id  \n",
       "120     test   2774568  \n",
       "121     test   2774568  \n",
       "122     test   2774568  \n",
       "123     test   2774568  \n",
       "124     test   2774568  "
      ]
     },
     "execution_count": 52,
     "metadata": {},
     "output_type": "execute_result"
    }
   ],
   "source": [
    "# seperate test rows\n",
    "df_test = df1[df1.eval_set == 'test']\n",
    "df_test.head()"
   ]
  },
  {
   "cell_type": "code",
   "execution_count": 53,
   "metadata": {},
   "outputs": [
    {
     "name": "stderr",
     "output_type": "stream",
     "text": [
      "/home/johnmketterer/anaconda3/lib/python3.7/site-packages/pandas/core/frame.py:4102: SettingWithCopyWarning: \n",
      "A value is trying to be set on a copy of a slice from a DataFrame\n",
      "\n",
      "See the caveats in the documentation: http://pandas.pydata.org/pandas-docs/stable/user_guide/indexing.html#returning-a-view-versus-a-copy\n",
      "  errors=errors,\n"
     ]
    }
   ],
   "source": [
    "# order+id and eval set no longer relevant to test df either\n",
    "df_test.drop(['eval_set', 'order_id'], axis = 1, inplace = True)"
   ]
  },
  {
   "cell_type": "code",
   "execution_count": 54,
   "metadata": {
    "scrolled": true
   },
   "outputs": [],
   "source": [
    "# adding columns with aisle id and department id to be encoded \n",
    "df_train = df_train.merge(stock, on = 'product_id', how = 'left')\n",
    "df_test = df_test.merge(stock, on = 'product_id', how = 'left')"
   ]
  },
  {
   "cell_type": "code",
   "execution_count": 55,
   "metadata": {},
   "outputs": [
    {
     "name": "stdout",
     "output_type": "stream",
     "text": [
      "<class 'pandas.core.frame.DataFrame'>\n",
      "Int64Index: 4833292 entries, 0 to 4833291\n",
      "Data columns (total 18 columns):\n",
      "user_id                   int32\n",
      "product_id                int32\n",
      "times_bought_up           uint16\n",
      "reorder_ratio_up          float32\n",
      "last_five_up              float32\n",
      "ratio_last_five_up        float32\n",
      "user_totals_u             int32\n",
      "number_of_orders_u        float32\n",
      "average_days_between_u    float32\n",
      "most_dow_u                int32\n",
      "most_hour_u               int32\n",
      "reorder_ratio_u           float32\n",
      "specific_items_p          int32\n",
      "total_purchased_p         int32\n",
      "reorder_ratio_p           float32\n",
      "cart_position_p           float32\n",
      "aisle_id                  int32\n",
      "department_id             int32\n",
      "dtypes: float32(8), int32(9), uint16(1)\n",
      "memory usage: 359.5 MB\n"
     ]
    }
   ],
   "source": [
    "df_test.info()"
   ]
  },
  {
   "cell_type": "code",
   "execution_count": 56,
   "metadata": {
    "scrolled": true
   },
   "outputs": [
    {
     "name": "stdout",
     "output_type": "stream",
     "text": [
      "<class 'pandas.core.frame.DataFrame'>\n",
      "Int64Index: 8474661 entries, 0 to 8474660\n",
      "Data columns (total 19 columns):\n",
      "user_id                   int32\n",
      "product_id                int32\n",
      "times_bought_up           uint16\n",
      "reorder_ratio_up          float32\n",
      "last_five_up              float32\n",
      "ratio_last_five_up        float32\n",
      "user_totals_u             int32\n",
      "number_of_orders_u        float32\n",
      "average_days_between_u    float32\n",
      "most_dow_u                int32\n",
      "most_hour_u               int32\n",
      "reorder_ratio_u           float32\n",
      "specific_items_p          int32\n",
      "total_purchased_p         int32\n",
      "reorder_ratio_p           float32\n",
      "cart_position_p           float32\n",
      "reordered                 float64\n",
      "aisle_id                  int32\n",
      "department_id             int32\n",
      "dtypes: float32(8), float64(1), int32(9), uint16(1)\n",
      "memory usage: 695.1 MB\n"
     ]
    }
   ],
   "source": [
    "df_train.info()"
   ]
  },
  {
   "cell_type": "code",
   "execution_count": 62,
   "metadata": {},
   "outputs": [],
   "source": [
    "del future_orders, df1, "
   ]
  }
 ],
 "metadata": {
  "kernelspec": {
   "display_name": "Python 3",
   "language": "python",
   "name": "python3"
  },
  "language_info": {
   "codemirror_mode": {
    "name": "ipython",
    "version": 3
   },
   "file_extension": ".py",
   "mimetype": "text/x-python",
   "name": "python",
   "nbconvert_exporter": "python",
   "pygments_lexer": "ipython3",
   "version": "3.7.3"
  }
 },
 "nbformat": 4,
 "nbformat_minor": 2
}
