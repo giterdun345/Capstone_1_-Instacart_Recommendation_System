{
 "cells": [
  {
   "cell_type": "code",
   "execution_count": null,
   "metadata": {},
   "outputs": [],
   "source": [
    "import pandas as pd\n",
    "import numpy as np\n",
    "import matplotlib.pyplot as plt\n",
    "import seaborn as sns; sns.set()\n",
    "import warnings\n",
    "import gc\n",
    "from sklearn.model_selection import train_test_split, GridSearchCV\n",
    "from sklearn.metrics import roc_curve, auc, f1_score, classification_report, accuracy_score, confusion_matrix\n",
    "import xgboost as xgb\n",
    "\n",
    "# enable garbage collector to aid in memory \n",
    "gc.enable()\n",
    "# eliminate future warnings\n",
    "warnings.filterwarnings('ignore')\n"
   ]
  },
  {
   "cell_type": "code",
   "execution_count": null,
   "metadata": {},
   "outputs": [],
   "source": [
    "df_train = pd.read_csv('df_train.csv')\n",
    "df_test = pd.read_csv('df_test.csv')"
   ]
  },
  {
   "cell_type": "code",
   "execution_count": null,
   "metadata": {},
   "outputs": [],
   "source": [
    "# mean encoding of aisle and department\n",
    "aisle_mean = (df_train.groupby('aisle_id')['reordered'].mean()).to_frame('aisle').reset_index()\n",
    "department_mean = (df_train.groupby('department_id')['reordered'].mean()).to_frame('department').reset_index()"
   ]
  },
  {
   "cell_type": "code",
   "execution_count": null,
   "metadata": {},
   "outputs": [],
   "source": [
    "# merging new features on test set\n",
    "df_test = df_test.merge(aisle_mean, on = 'aisle_id', how = 'left')\n",
    "df_test = df_test.merge(department_mean, on = 'department_id', how = 'left')"
   ]
  },
  {
   "cell_type": "code",
   "execution_count": null,
   "metadata": {},
   "outputs": [],
   "source": [
    "# merging new features on training set\n",
    "df_train = df_train.merge(aisle_mean, on = 'aisle_id', how = 'left')\n",
    "df_train = df_train.merge(department_mean, on = 'department_id', how = 'left')"
   ]
  },
  {
   "cell_type": "code",
   "execution_count": null,
   "metadata": {},
   "outputs": [],
   "source": [
    "# no longer need the actual id's in test or train set\n",
    "df_test.drop(['aisle_id', 'department_id'], axis = 1, inplace = True)\n",
    "df_train.drop(['aisle_id', 'department_id'], axis = 1, inplace = True)\n",
    "df_test.set_index(['user_id', 'product_id'], inplace = True)\n",
    "df_train.set_index(['user_id', 'product_id'], inplace = True)"
   ]
  },
  {
   "cell_type": "code",
   "execution_count": null,
   "metadata": {},
   "outputs": [],
   "source": [
    "# ensuring columns are the same, train has an extra due to reordered column \n",
    "df_test.shape, df_train.shape"
   ]
  },
  {
   "cell_type": "code",
   "execution_count": null,
   "metadata": {},
   "outputs": [],
   "source": [
    "del aisle_mean, department_mean\n",
    "gc.collect()"
   ]
  },
  {
   "cell_type": "markdown",
   "metadata": {},
   "source": [
    "# X and y Variables for models"
   ]
  },
  {
   "cell_type": "code",
   "execution_count": null,
   "metadata": {},
   "outputs": [],
   "source": [
    "# These will be used as the base for X and y variables throughout the notebook\n",
    "X, y = df_train.drop('reordered', axis=1), df_train.reordered"
   ]
  },
  {
   "cell_type": "code",
   "execution_count": null,
   "metadata": {},
   "outputs": [],
   "source": [
    "del df_train\n",
    "gc.collect()"
   ]
  },
  {
   "cell_type": "markdown",
   "metadata": {},
   "source": [
    "# XGBoost"
   ]
  },
  {
   "cell_type": "code",
   "execution_count": null,
   "metadata": {},
   "outputs": [],
   "source": [
    "# new set of train and test data\n",
    "X_train, X_test, y_train, y_test = train_test_split(X, y, test_size = .2, random_state = 13)"
   ]
  },
  {
   "cell_type": "code",
   "execution_count": null,
   "metadata": {},
   "outputs": [],
   "source": [
    "# parameters derived from prior grid search cv session\n",
    "parameters = {\n",
    "    'eval_metric' : 'logloss',\n",
    "    'max_depth' : 5,\n",
    "    'colsample_bytree' : 0.4,\n",
    "    'subsample' : 0.8, \n",
    "    'scale_pos_weight': 0.6\n",
    "}"
   ]
  },
  {
   "cell_type": "code",
   "execution_count": null,
   "metadata": {},
   "outputs": [],
   "source": [
    "# instantiate xgb model\n",
    "xgb1 = xgb.XGBClassifier(objective='binary:logistic',\n",
    "                         parameters=parameters,\n",
    "                         num_boost_round=10)"
   ]
  },
  {
   "cell_type": "code",
   "execution_count": null,
   "metadata": {},
   "outputs": [],
   "source": [
    "#fitting the model.\n",
    "xgb1.fit(X_train, y_train)"
   ]
  },
  {
   "cell_type": "code",
   "execution_count": null,
   "metadata": {},
   "outputs": [],
   "source": [
    "def tryProbThresholds(clf, X_test, y_test, startProb=0.1, endProb=1.0, incrementProb=0.1):\n",
    "    \"\"\"A function used to decide the threshold to classify reorder or no reorder(Author:Stefan Fiot)\"\"\"\n",
    "    y_hat_probs = clf.predict_proba(X_test)\n",
    "    best_threshold_prob = 0\n",
    "    best_f1_score = 0\n",
    "    for threshold in np.arange(startProb, endProb, incrementProb):\n",
    "        print(\"Using {0:.2f} probability threshold for class 1\".format(threshold))\n",
    "        y_hat = (y_hat_probs[:,1] > threshold).astype(int)\n",
    "        current_f1_score = f1_score(y_test, y_hat)\n",
    "        current_accuracy_score = accuracy_score(y_test, y_hat)\n",
    "        if current_f1_score > best_f1_score:\n",
    "            best_f1_score = current_f1_score\n",
    "            best_threshold_prob = threshold\n",
    "        print(\"F1: {0:.4f} - Acc: {1:.4f}\".format(current_f1_score, current_accuracy_score))\n",
    "    print(\"Best F1 score: **{0:.4f}** at probability threshold **{1:.2f}**\".format(best_f1_score, best_threshold_prob))\n",
    "\n"
   ]
  },
  {
   "cell_type": "code",
   "execution_count": null,
   "metadata": {},
   "outputs": [],
   "source": [
    "#run function to deliver best threshold to use\n",
    "tryProbThresholds(xgb1, X_test, y_test)"
   ]
  },
  {
   "cell_type": "code",
   "execution_count": null,
   "metadata": {},
   "outputs": [],
   "source": [
    "#prediction, #setting a threshold.\n",
    "xgb_pred = (xgb1.predict_proba(X_test)[:, 1] >= 0.20).astype('int') "
   ]
  },
  {
   "cell_type": "code",
   "execution_count": null,
   "metadata": {},
   "outputs": [],
   "source": [
    "# prints confusion matrix and precision and recall \n",
    "cm3 = confusion_matrix(y_test, xgb_pred)\n",
    "\n",
    "print(cm3)\n",
    "print('\\n')\n",
    "print(\"Precision: %0.2f\" %(cm3[1, 1] / (cm3[1, 1] + cm3[0, 1])))\n",
    "print(\"Recall:    %0.2f\"% (cm3[1, 1] / (cm3[1, 1] + cm3[1, 0])))\n",
    "    \n",
    "cm4 = confusion_matrix(y_test, xgb_pred, labels=[0, 1])\n",
    "    \n",
    "plt.figure()\n",
    "plot_confusion_matrix(cm4)"
   ]
  },
  {
   "cell_type": "code",
   "execution_count": null,
   "metadata": {},
   "outputs": [],
   "source": [
    "#Evaluation.\n",
    "print('F1 Score: {}'.format(f1_score(xgb_pred, y_test)))\n",
    "print(classification_report(y_test, xgb_pred))"
   ]
  },
  {
   "cell_type": "code",
   "execution_count": null,
   "metadata": {},
   "outputs": [],
   "source": [
    "# Plotting the tuned model to visualize the auc, roc\n",
    "fpr, tpr,_ = roc_curve(y_test, xgb_pred)\n",
    "roc_auc = auc(fpr, tpr)\n",
    "plt.figure()\n",
    "plt.plot([0,1],[0,1], linestyle='--', color = 'black')\n",
    "plt.plot(fpr, tpr, color = 'green')\n",
    "plt.xlabel('False Positive Rate')\n",
    "plt.ylabel('True Positive Rate')\n",
    "plt.gca().set_aspect('equal', adjustable='box')"
   ]
  },
  {
   "cell_type": "code",
   "execution_count": null,
   "metadata": {
    "scrolled": true
   },
   "outputs": [],
   "source": [
    "# plot feature importance\n",
    "xgb.plot_importance(xgb1)"
   ]
  },
  {
   "cell_type": "code",
   "execution_count": null,
   "metadata": {},
   "outputs": [],
   "source": [
    "# making predictions on the test dataset\n",
    "y_pred_test = (xgb1.predict_proba(df_test.drop(['order_id'], axis=1))[:, 1] >= 0.20).astype('int') #setting a threshold."
   ]
  },
  {
   "cell_type": "code",
   "execution_count": null,
   "metadata": {},
   "outputs": [],
   "source": [
    "# saving new column for creation of submission df\n",
    "df_test['xgb_predicted'] = y_pred_test \n",
    "df_test['xgb_probability'] = xgb1.predict_proba(df_test.drop(['order_id'], axis=1)\n",
    "df_test.info()"
   ]
  },
  {
   "cell_type": "code",
   "execution_count": null,
   "metadata": {},
   "outputs": [],
   "source": [
    "# Reset the index\n",
    "final = df_test.reset_index()\n",
    "# Keep only the required columns \n",
    "final = final[['product_id', 'user_id', 'xgb_predicted']]\n",
    "\n",
    "gc.collect()\n",
    "final.head()"
   ]
  },
  {
   "cell_type": "code",
   "execution_count": null,
   "metadata": {},
   "outputs": [],
   "source": [
    "# redo extraction of test to rejoin order id \n",
    "orders_test = orders.loc[orders.eval_set == 'test', ['user_id', 'order_id']]\n",
    "orders_test.head()"
   ]
  },
  {
   "cell_type": "code",
   "execution_count": null,
   "metadata": {},
   "outputs": [],
   "source": [
    "final = final.merge(orders_test, on='user_id', how='left')\n",
    "final = final.drop('user_id', axis=1)\n",
    "final.head()"
   ]
  },
  {
   "cell_type": "code",
   "execution_count": null,
   "metadata": {},
   "outputs": [],
   "source": [
    "#convert product_id as integer\n",
    "final['product_id'] = final.product_id.astype(int)\n"
   ]
  },
  {
   "cell_type": "code",
   "execution_count": null,
   "metadata": {},
   "outputs": [],
   "source": [
    "# creates a dictionary to then be converted into df by assigning 1, 0, or none\n",
    "d = dict()\n",
    "for row in final.itertuples():\n",
    "    if row.xgb_predicted== 1:\n",
    "        try:\n",
    "            d[row.order_id] += ' ' + str(row.product_id)\n",
    "        except:\n",
    "            d[row.order_id] = str(row.product_id)\n",
    "\n",
    "for order in final.order_id:\n",
    "    if order not in d:\n",
    "        d[order] = 'None'\n",
    "        \n",
    "gc.collect()\n",
    "d"
   ]
  },
  {
   "cell_type": "code",
   "execution_count": null,
   "metadata": {},
   "outputs": [],
   "source": [
    "#Convert the dictionary into a DataFrame\n",
    "sub = pd.DataFrame.from_dict(d, orient='index')\n",
    "\n",
    "#Reset index\n",
    "sub.reset_index(inplace=True)\n",
    "#Set column names\n",
    "sub.columns = ['order_id', 'products']\n",
    "\n",
    "sub.head()"
   ]
  },
  {
   "cell_type": "code",
   "execution_count": null,
   "metadata": {},
   "outputs": [],
   "source": [
    "sub.to_csv('xgbfinal_submission.csv', index=False, header=True)"
   ]
  },
  {
   "cell_type": "code",
   "execution_count": null,
   "metadata": {},
   "outputs": [],
   "source": []
  },
  {
   "cell_type": "code",
   "execution_count": null,
   "metadata": {},
   "outputs": [],
   "source": []
  }
 ],
 "metadata": {
  "kernelspec": {
   "display_name": "Python 3",
   "language": "python",
   "name": "python3"
  },
  "language_info": {
   "codemirror_mode": {
    "name": "ipython",
    "version": 3
   },
   "file_extension": ".py",
   "mimetype": "text/x-python",
   "name": "python",
   "nbconvert_exporter": "python",
   "pygments_lexer": "ipython3",
   "version": "3.7.3"
  }
 },
 "nbformat": 4,
 "nbformat_minor": 2
}
