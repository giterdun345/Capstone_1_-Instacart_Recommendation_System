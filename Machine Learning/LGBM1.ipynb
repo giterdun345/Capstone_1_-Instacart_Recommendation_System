{
 "cells": [
  {
   "cell_type": "code",
   "execution_count": null,
   "metadata": {},
   "outputs": [],
   "source": [
    "import pandas as pd\n",
    "import numpy as np\n",
    "import matplotlib.pyplot as plt\n",
    "import seaborn as sns; sns.set()\n",
    "import warnings\n",
    "import gc\n",
    "from imblearn.over_sampling import SMOTE\n",
    "from sklearn.model_selection import train_test_split\n",
    "from sklearn.metrics import roc_curve, auc, f1_score, classification_report, accuracy_score, confusion_matrix\n",
    "import lightgbm as lgb\n",
    "# enable garbage collector to aid in memory \n",
    "gc.enable()\n",
    "# eliminate future warnings\n",
    "warnings.filterwarnings('ignore')\n"
   ]
  },
  {
   "cell_type": "code",
   "execution_count": null,
   "metadata": {},
   "outputs": [],
   "source": [
    "df_train = pd.read_csv('df_train.csv')\n",
    "df_test = pd.read_csv('df_test.csv')\n",
    "orders = pd.read_csv(\"orders.csv\")"
   ]
  },
  {
   "cell_type": "code",
   "execution_count": null,
   "metadata": {},
   "outputs": [],
   "source": [
    "df_train.set_index('user_id', inplace = True)\n",
    "df_test.set_index('user_id', inplace = True)"
   ]
  },
  {
   "cell_type": "code",
   "execution_count": null,
   "metadata": {},
   "outputs": [],
   "source": [
    "# These will be used as the base for X and y variables throughout the notebook\n",
    "X, y = df_train.drop('reordered', axis=1), df_train.reordered"
   ]
  },
  {
   "cell_type": "code",
   "execution_count": null,
   "metadata": {},
   "outputs": [],
   "source": [
    "del df_train\n",
    "gc.collect()"
   ]
  },
  {
   "cell_type": "markdown",
   "metadata": {},
   "source": [
    "# Balancing the target class SMOTE"
   ]
  },
  {
   "cell_type": "code",
   "execution_count": null,
   "metadata": {},
   "outputs": [],
   "source": [
    "# balance data for better results from sampling \n",
    "smote = SMOTE(random_state = 13)\n",
    "smote_X, smote_y = smote.fit_sample(X, y)\n",
    "smote_X = pd.DataFrame(smote_X, columns = X.columns )\n",
    "smote_y= pd.DataFrame(smote_y, columns=['reordered'])\n",
    "# we can Check the numbers of our data\n",
    "print(\"length is\",len(smote_X))\n",
    "print(\"Number of not reordered\",len(smote_y[smote_y['reordered'] == 0]))\n",
    "print(\"Number of reordered\",len(smote_y[smote_y['reordered'] == 1]))\n",
    "print(\"Proportion of not reordered \", len(smote_y[smote_y['reordered'] == 0]) / len(smote_X))\n",
    "print(\"Proportion of reordered\", len(smote_y[smote_y['reordered'] == 1]) / len(smote_X))\n",
    "# class is balanced with equal proportions"
   ]
  },
  {
   "cell_type": "markdown",
   "metadata": {},
   "source": [
    "# LGBM"
   ]
  },
  {
   "cell_type": "code",
   "execution_count": null,
   "metadata": {},
   "outputs": [],
   "source": [
    "# splitting data with 20% split for test and using balanced categories of target\n",
    "X_train, X_test, y_train, y_test = train_test_split(smote_X, smote_y, test_size = .20, random_state = 13)"
   ]
  },
  {
   "cell_type": "code",
   "execution_count": null,
   "metadata": {},
   "outputs": [],
   "source": [
    "# lgb accepts a certain format for the model\n",
    "d_train = lgb.Dataset(X_train, \n",
    "                      label = y_train,\n",
    "                      categorical_feature = ['product_id', 'aisle_id', 'department_id']\n",
    "                     )\n",
    "d_test = lgb.Dataset(X_test,\n",
    "                     y_test,\n",
    "                     categorical_feature = ['product_id', 'aisle_id', 'department_id'],\n",
    "                     reference = d_train\n",
    "                    )"
   ]
  },
  {
   "cell_type": "code",
   "execution_count": null,
   "metadata": {},
   "outputs": [],
   "source": [
    "del X, y, smote_X, smote_y\n",
    "gc.collect()"
   ]
  },
  {
   "cell_type": "code",
   "execution_count": null,
   "metadata": {},
   "outputs": [],
   "source": [
    "# hypertuning parameters to be used, arr indicates tuned parameters\n",
    "params = {'objective': 'binary',\n",
    "          'metric':'auc', \n",
    "          'boosting_type': ['dart'],  \n",
    "          'boost_from_average': False,\n",
    "          'learning_rate':[0.005], \n",
    "          'num_rounds': 200,\n",
    "          'max_depth': [10],\n",
    "          'num_leaves': [93],\n",
    "          'seed': 13}"
   ]
  },
  {
   "cell_type": "code",
   "execution_count": null,
   "metadata": {},
   "outputs": [],
   "source": [
    "# first run training model\n",
    "lgb_model = lgb.train(params, train_set = d_train)"
   ]
  },
  {
   "cell_type": "code",
   "execution_count": null,
   "metadata": {},
   "outputs": [],
   "source": [
    "# predictions made on cv \n",
    "lgb_y_pred = lgb_model.predict(X_test)"
   ]
  },
  {
   "cell_type": "code",
   "execution_count": null,
   "metadata": {},
   "outputs": [],
   "source": [
    "# assess these predictions "
   ]
  },
  {
   "cell_type": "code",
   "execution_count": null,
   "metadata": {},
   "outputs": [],
   "source": [
    "def tryProbThresholds(clf, X_test, y_test, startProb=0.1, endProb=1.0, incrementProb=0.1):\n",
    "    \"\"\"A function used to decide the threshold used to classify reorder or no reorder(Author:Stefan Fiot)\"\"\"\n",
    "    y_hat_probs = clf.predict(X_test)\n",
    "    best_threshold_prob = 0\n",
    "    best_f1_score = 0\n",
    "    for threshold in np.arange(startProb, endProb, incrementProb):\n",
    "        print(\"Using {0:.2f} probability threshold for class 1\".format(threshold))\n",
    "        y_hat = (y_hat_probs > threshold).astype(int)\n",
    "        current_f1_score = f1_score(y_test, y_hat)\n",
    "        current_accuracy_score = accuracy_score(y_test, y_hat)\n",
    "        if current_f1_score > best_f1_score:\n",
    "            best_f1_score = current_f1_score\n",
    "            best_threshold_prob = threshold\n",
    "        print(\"F1: {0:.4f} - Acc: {1:.4f}\".format(current_f1_score, current_accuracy_score))\n",
    "    print(\"Best F1 score: **{0:.4f}** at probability threshold **{1:.2f}**\".format(best_f1_score, best_threshold_prob))"
   ]
  },
  {
   "cell_type": "code",
   "execution_count": null,
   "metadata": {},
   "outputs": [],
   "source": [
    "#run function to deliver best threshold to use\n",
    "tryProbThresholds(lgb_model, X_test, y_test)"
   ]
  },
  {
   "cell_type": "code",
   "execution_count": null,
   "metadata": {},
   "outputs": [],
   "source": [
    "#convert into binary values using threshold calculated above \n",
    "def to_binary(arr):\n",
    "    \"\"\"Converts probability given by model to a 1 or 0 based on a predetermined threshold\"\"\"\n",
    "    new = []\n",
    "    for i in range(len(arr)):\n",
    "        if arr[i] >= .35:  \n",
    "            new.append(1)\n",
    "        else:\n",
    "            new.append(0)\n",
    "    return new"
   ]
  },
  {
   "cell_type": "code",
   "execution_count": null,
   "metadata": {},
   "outputs": [],
   "source": [
    "# results of the binary classification used for evaluation\n",
    "results = to_binary(lgb_y_pred)"
   ]
  },
  {
   "cell_type": "code",
   "execution_count": null,
   "metadata": {},
   "outputs": [],
   "source": [
    "# ensure the true test results are the same length as the prediction results\n",
    "len(results), len(y_test)"
   ]
  },
  {
   "cell_type": "code",
   "execution_count": null,
   "metadata": {},
   "outputs": [],
   "source": [
    "# first run base model with balanced class weight\n",
    "confusion_matrix(y_test, results)"
   ]
  },
  {
   "cell_type": "code",
   "execution_count": null,
   "metadata": {},
   "outputs": [],
   "source": [
    "# first run base model with balanced class weight\n",
    "print(classification_report(y_test, results))"
   ]
  },
  {
   "cell_type": "code",
   "execution_count": null,
   "metadata": {},
   "outputs": [],
   "source": [
    "#lightgbm variable importance bar graph\n",
    "#print list(var_names.values)\n",
    "pd.Series(lgb_model.feature_importance(), X_train.columns ).sort_values(ascending=False).plot(kind='bar', title='LightGBM Importance');"
   ]
  },
  {
   "cell_type": "markdown",
   "metadata": {},
   "source": [
    "# Test data predicted on LGBM model"
   ]
  },
  {
   "cell_type": "code",
   "execution_count": null,
   "metadata": {},
   "outputs": [],
   "source": [
    "# predicting on the final test df and turning the output into binary \n",
    "final_results = to_binary(lgb_model.predict(df_test))"
   ]
  },
  {
   "cell_type": "code",
   "execution_count": null,
   "metadata": {},
   "outputs": [],
   "source": [
    "# saving new column for creation of submission df and for inspection\n",
    "df_test['lgb_predicted'] = final_results\n",
    "df_test['lgb_probability'] = lgb_model.predict(df_test)\n",
    "df_test.info()"
   ]
  },
  {
   "cell_type": "code",
   "execution_count": null,
   "metadata": {},
   "outputs": [],
   "source": [
    "# Keep only the required columns \n",
    "final = df_test[['product_id', 'user_id.1', 'lgb_predicted']]\n",
    "final.info()"
   ]
  },
  {
   "cell_type": "code",
   "execution_count": null,
   "metadata": {},
   "outputs": [],
   "source": [
    "gc.collect()\n",
    "final.head()"
   ]
  },
  {
   "cell_type": "code",
   "execution_count": null,
   "metadata": {},
   "outputs": [],
   "source": [
    "# redo extraction of test observations to rejoin order id\n",
    "orders_test = orders.loc[orders.eval_set == 'test', ['user_id', 'order_id']]\n",
    "orders_test.head()"
   ]
  },
  {
   "cell_type": "code",
   "execution_count": null,
   "metadata": {},
   "outputs": [],
   "source": [
    "final = final.merge(orders_test, left_on='user_id.1', right_on = 'user_id', how='left')\n",
    "final.head()"
   ]
  },
  {
   "cell_type": "code",
   "execution_count": null,
   "metadata": {},
   "outputs": [],
   "source": [
    "# dropping user id to only include order_id, products and predicitons\n",
    "final = final.drop(['user_id', 'user_id.1'], axis=1)"
   ]
  },
  {
   "cell_type": "markdown",
   "metadata": {},
   "source": [
    "#convert product_id as integer\n",
    "final['product_id'] = final.product_id.astype(int)"
   ]
  },
  {
   "cell_type": "code",
   "execution_count": null,
   "metadata": {},
   "outputs": [],
   "source": [
    "d = dict()\n",
    "for row in final.itertuples():\n",
    "    if row.lgb_predicted== 1:\n",
    "        try:\n",
    "            d[row.order_id] += ' ' + str(row.product_id)\n",
    "        except:\n",
    "            d[row.order_id] = str(row.product_id)\n",
    "\n",
    "for order in final.order_id:\n",
    "    if order not in d:\n",
    "        d[order] = 'None'\n",
    "        \n",
    "gc.collect()\n",
    "d"
   ]
  },
  {
   "cell_type": "code",
   "execution_count": null,
   "metadata": {},
   "outputs": [],
   "source": [
    "#Convert the dictionary into a DataFrame\n",
    "sub = pd.DataFrame.from_dict(d, orient='index')"
   ]
  },
  {
   "cell_type": "code",
   "execution_count": null,
   "metadata": {},
   "outputs": [],
   "source": [
    "#Reset index\n",
    "sub.reset_index(inplace=True)\n",
    "#Set column names\n",
    "sub.columns = ['order_id', 'products']\n",
    "sub.head()"
   ]
  },
  {
   "cell_type": "code",
   "execution_count": null,
   "metadata": {},
   "outputs": [],
   "source": [
    "sub.head()"
   ]
  },
  {
   "cell_type": "code",
   "execution_count": null,
   "metadata": {},
   "outputs": [],
   "source": [
    "sub.to_csv('lgbfinal_submission.csv', index=False, header=True)"
   ]
  },
  {
   "cell_type": "code",
   "execution_count": null,
   "metadata": {},
   "outputs": [],
   "source": []
  },
  {
   "cell_type": "code",
   "execution_count": null,
   "metadata": {},
   "outputs": [],
   "source": []
  },
  {
   "cell_type": "code",
   "execution_count": null,
   "metadata": {},
   "outputs": [],
   "source": []
  },
  {
   "cell_type": "code",
   "execution_count": null,
   "metadata": {},
   "outputs": [],
   "source": []
  },
  {
   "cell_type": "code",
   "execution_count": null,
   "metadata": {},
   "outputs": [],
   "source": []
  },
  {
   "cell_type": "code",
   "execution_count": null,
   "metadata": {},
   "outputs": [],
   "source": []
  },
  {
   "cell_type": "code",
   "execution_count": null,
   "metadata": {},
   "outputs": [],
   "source": []
  },
  {
   "cell_type": "code",
   "execution_count": null,
   "metadata": {},
   "outputs": [],
   "source": []
  },
  {
   "cell_type": "code",
   "execution_count": null,
   "metadata": {},
   "outputs": [],
   "source": []
  }
 ],
 "metadata": {
  "kernelspec": {
   "display_name": "Python 3",
   "language": "python",
   "name": "python3"
  },
  "language_info": {
   "codemirror_mode": {
    "name": "ipython",
    "version": 3
   },
   "file_extension": ".py",
   "mimetype": "text/x-python",
   "name": "python",
   "nbconvert_exporter": "python",
   "pygments_lexer": "ipython3",
   "version": "3.7.3"
  }
 },
 "nbformat": 4,
 "nbformat_minor": 2
}
